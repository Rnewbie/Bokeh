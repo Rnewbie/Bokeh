{
 "metadata": {
  "name": "",
  "signature": "sha256:9dd3d52e5283c7fb4121427817d266876e3fb7e2ec893f9e6f69c8222c5fada3"
 },
 "nbformat": 3,
 "nbformat_minor": 0,
 "worksheets": [
  {
   "cells": [
    {
     "cell_type": "code",
     "collapsed": false,
     "input": [
      "%run Descriptors_Extraction.py"
     ],
     "language": "python",
     "metadata": {},
     "outputs": [],
     "prompt_number": 1
    },
    {
     "cell_type": "code",
     "collapsed": false,
     "input": [
      "from rdkit import Chem"
     ],
     "language": "python",
     "metadata": {},
     "outputs": [],
     "prompt_number": 1
    },
    {
     "cell_type": "code",
     "collapsed": false,
     "input": [
      "m = Chem.MolFromSmiles('Cc1ccccc1')"
     ],
     "language": "python",
     "metadata": {},
     "outputs": [],
     "prompt_number": 2
    },
    {
     "cell_type": "code",
     "collapsed": false,
     "input": [
      "m"
     ],
     "language": "python",
     "metadata": {},
     "outputs": [
      {
       "metadata": {},
       "output_type": "pyout",
       "prompt_number": 3,
       "text": [
        "<rdkit.Chem.rdchem.Mol at 0x1041f6980>"
       ]
      }
     ],
     "prompt_number": 3
    },
    {
     "cell_type": "code",
     "collapsed": false,
     "input": [
      "Chem.MolToSmiles(m)"
     ],
     "language": "python",
     "metadata": {},
     "outputs": [
      {
       "metadata": {},
       "output_type": "pyout",
       "prompt_number": 4,
       "text": [
        "'Cc1ccccc1'"
       ]
      }
     ],
     "prompt_number": 4
    },
    {
     "cell_type": "code",
     "collapsed": false,
     "input": [
      "from rdkit.Chem import AllChem\n",
      "m1 = Chem.MolFromSmiles('Cc1ccccc1')\n",
      "fp1 = AllChem.GetMorganFingerprint(m1,2)"
     ],
     "language": "python",
     "metadata": {},
     "outputs": [],
     "prompt_number": 5
    },
    {
     "cell_type": "code",
     "collapsed": false,
     "input": [
      "fp1"
     ],
     "language": "python",
     "metadata": {},
     "outputs": [
      {
       "metadata": {},
       "output_type": "pyout",
       "prompt_number": 6,
       "text": [
        "<rdkit.DataStructs.cDataStructs.UIntSparseIntVect at 0x104945670>"
       ]
      }
     ],
     "prompt_number": 6
    },
    {
     "cell_type": "code",
     "collapsed": false,
     "input": [
      "m2 = Chem.MolFromSmiles('Cc1ncccc1')\n",
      "fp2 = AllChem.GetMorganFingerprint(m2,2)\n",
      "DataStructs.DiceSimilarity(fp1,fp2)"
     ],
     "language": "python",
     "metadata": {},
     "outputs": [
      {
       "ename": "NameError",
       "evalue": "name 'DataStructs' is not defined",
       "output_type": "pyerr",
       "traceback": [
        "\u001b[0;31m---------------------------------------------------------------------------\u001b[0m\n\u001b[0;31mNameError\u001b[0m                                 Traceback (most recent call last)",
        "\u001b[0;32m<ipython-input-7-d67feead121e>\u001b[0m in \u001b[0;36m<module>\u001b[0;34m()\u001b[0m\n\u001b[1;32m      1\u001b[0m \u001b[0mm2\u001b[0m \u001b[0;34m=\u001b[0m \u001b[0mChem\u001b[0m\u001b[0;34m.\u001b[0m\u001b[0mMolFromSmiles\u001b[0m\u001b[0;34m(\u001b[0m\u001b[0;34m'Cc1ncccc1'\u001b[0m\u001b[0;34m)\u001b[0m\u001b[0;34m\u001b[0m\u001b[0m\n\u001b[1;32m      2\u001b[0m \u001b[0mfp2\u001b[0m \u001b[0;34m=\u001b[0m \u001b[0mAllChem\u001b[0m\u001b[0;34m.\u001b[0m\u001b[0mGetMorganFingerprint\u001b[0m\u001b[0;34m(\u001b[0m\u001b[0mm2\u001b[0m\u001b[0;34m,\u001b[0m\u001b[0;36m2\u001b[0m\u001b[0;34m)\u001b[0m\u001b[0;34m\u001b[0m\u001b[0m\n\u001b[0;32m----> 3\u001b[0;31m \u001b[0mDataStructs\u001b[0m\u001b[0;34m.\u001b[0m\u001b[0mDiceSimilarity\u001b[0m\u001b[0;34m(\u001b[0m\u001b[0mfp1\u001b[0m\u001b[0;34m,\u001b[0m\u001b[0mfp2\u001b[0m\u001b[0;34m)\u001b[0m\u001b[0;34m\u001b[0m\u001b[0m\n\u001b[0m",
        "\u001b[0;31mNameError\u001b[0m: name 'DataStructs' is not defined"
       ]
      }
     ],
     "prompt_number": 7
    },
    {
     "cell_type": "code",
     "collapsed": false,
     "input": [
      "fp1 = AllChem.GetMorganFingerprint(m1,2)"
     ],
     "language": "python",
     "metadata": {},
     "outputs": [],
     "prompt_number": 8
    },
    {
     "cell_type": "code",
     "collapsed": false,
     "input": [
      "fp1"
     ],
     "language": "python",
     "metadata": {},
     "outputs": [
      {
       "metadata": {},
       "output_type": "pyout",
       "prompt_number": 9,
       "text": [
        "<rdkit.DataStructs.cDataStructs.UIntSparseIntVect at 0x105489210>"
       ]
      }
     ],
     "prompt_number": 9
    },
    {
     "cell_type": "code",
     "collapsed": false,
     "input": [
      "from rdkit.Chem.Draw import SimilarityMaps\n",
      "mol = Chem.MolFromSmiles('COc1cccc2cc(C(=O)NCCCCN3CCN(c4cccc5nccnc54)CC3)oc21')\n",
      "AllChem.ComputeGasteigerCharges(mol)\n",
      "contribs = [float(mol.GetAtomWithIdx(i).GetProp('_GasteigerCharge')) for i in range(mol.GetNumAtoms())]\n",
      "fig = SimilarityMaps.GetSimilarityMapFromWeights(mol, contribs, colorMap='jet', contourLines=10)"
     ],
     "language": "python",
     "metadata": {},
     "outputs": [],
     "prompt_number": 13
    },
    {
     "cell_type": "code",
     "collapsed": false,
     "input": [
      "fp1 = AllChem.GetMorganFingerprint(m1,2)"
     ],
     "language": "python",
     "metadata": {},
     "outputs": [],
     "prompt_number": 14
    },
    {
     "cell_type": "code",
     "collapsed": false,
     "input": [
      "fp1"
     ],
     "language": "python",
     "metadata": {},
     "outputs": [
      {
       "metadata": {},
       "output_type": "pyout",
       "prompt_number": 15,
       "text": [
        "<rdkit.DataStructs.cDataStructs.UIntSparseIntVect at 0x106548440>"
       ]
      }
     ],
     "prompt_number": 15
    },
    {
     "cell_type": "code",
     "collapsed": false,
     "input": [
      "suppl = Chem.SDMolSupplier(\"6.sdf\")\n",
      "for mol in suppl:\n",
      "       print mol.GetNumAtoms()"
     ],
     "language": "python",
     "metadata": {},
     "outputs": [
      {
       "output_type": "stream",
       "stream": "stdout",
       "text": [
        "12\n",
        "20\n",
        "24\n",
        "15\n",
        "16\n",
        "13\n",
        "15\n",
        "23\n",
        "14\n",
        "22\n",
        "20\n",
        "10\n",
        "12\n",
        "18\n",
        "29\n",
        "23\n",
        "27\n",
        "14\n",
        "21\n",
        "29\n",
        "21\n",
        "21\n",
        "11\n",
        "19\n",
        "18\n",
        "25\n",
        "22\n",
        "14\n",
        "12\n",
        "22"
       ]
      },
      {
       "output_type": "stream",
       "stream": "stdout",
       "text": [
        "\n",
        "22\n",
        "21\n",
        "25\n",
        "25\n",
        "19\n",
        "24\n",
        "24\n",
        "24\n",
        "26\n",
        "26\n",
        "29"
       ]
      },
      {
       "output_type": "stream",
       "stream": "stdout",
       "text": [
        "\n",
        "33\n",
        "33\n",
        "22\n",
        "26\n",
        "21\n",
        "30\n",
        "25\n",
        "28\n",
        "28\n",
        "28\n",
        "28\n",
        "32"
       ]
      },
      {
       "output_type": "stream",
       "stream": "stdout",
       "text": [
        "\n",
        "25\n",
        "25\n",
        "25\n",
        "26\n",
        "28\n",
        "28\n",
        "28\n",
        "28"
       ]
      },
      {
       "output_type": "stream",
       "stream": "stdout",
       "text": [
        "\n",
        "16\n",
        "16\n",
        "16\n",
        "16\n",
        "34\n",
        "34\n",
        "34\n",
        "34\n",
        "26\n",
        "30\n",
        "26"
       ]
      },
      {
       "output_type": "stream",
       "stream": "stdout",
       "text": [
        "\n",
        "25\n",
        "25\n",
        "26\n",
        "15\n",
        "23\n",
        "23\n",
        "23\n",
        "23"
       ]
      },
      {
       "output_type": "stream",
       "stream": "stdout",
       "text": [
        "\n",
        "43\n",
        "43\n",
        "43\n",
        "43\n",
        "48\n",
        "16\n",
        "32\n",
        "25\n",
        "25"
       ]
      },
      {
       "output_type": "stream",
       "stream": "stdout",
       "text": [
        "\n",
        "25\n",
        "25\n",
        "15\n",
        "26\n",
        "14\n",
        "14\n",
        "20\n",
        "19\n",
        "20\n",
        "16\n",
        "34\n",
        "34\n",
        "26\n",
        "26\n",
        "20\n",
        "46"
       ]
      },
      {
       "output_type": "stream",
       "stream": "stdout",
       "text": [
        "\n",
        "46\n",
        "28\n",
        "28\n",
        "28\n",
        "28\n",
        "32\n",
        "32\n",
        "28\n",
        "28\n",
        "28"
       ]
      },
      {
       "output_type": "stream",
       "stream": "stdout",
       "text": [
        "\n",
        "28\n",
        "33\n",
        "34\n",
        "34\n",
        "34\n",
        "34\n",
        "46\n",
        "30\n",
        "34\n",
        "26\n",
        "26\n",
        "26\n",
        "26\n",
        "48\n",
        "48"
       ]
      },
      {
       "output_type": "stream",
       "stream": "stdout",
       "text": [
        "\n",
        "48\n",
        "34\n",
        "16\n",
        "16\n",
        "16\n",
        "16\n",
        "16\n",
        "17\n",
        "17\n",
        "22\n",
        "41\n",
        "41\n",
        "41\n",
        "41\n"
       ]
      }
     ],
     "prompt_number": 18
    },
    {
     "cell_type": "code",
     "collapsed": false,
     "input": [
      "m1 = Chem.MolFromSmiles(\"Cc1ccccc1\")"
     ],
     "language": "python",
     "metadata": {},
     "outputs": [],
     "prompt_number": 20
    },
    {
     "cell_type": "code",
     "collapsed": false,
     "input": [
      "fp1 = AllChem.GetMorganFingerprint(m1,2,invariants=[1]*m1.GetNumAtoms())"
     ],
     "language": "python",
     "metadata": {},
     "outputs": [],
     "prompt_number": 21
    },
    {
     "cell_type": "code",
     "collapsed": false,
     "input": [
      "fp1"
     ],
     "language": "python",
     "metadata": {},
     "outputs": [
      {
       "metadata": {},
       "output_type": "pyout",
       "prompt_number": 22,
       "text": [
        "<rdkit.DataStructs.cDataStructs.UIntSparseIntVect at 0x104945600>"
       ]
      }
     ],
     "prompt_number": 22
    },
    {
     "cell_type": "code",
     "collapsed": false,
     "input": [
      "suppl = Chem.SDMolSupplier(\"6.sdf\")\n",
      "for mol in suppl:\n",
      "       print Descriptors.TPSA(mol)"
     ],
     "language": "python",
     "metadata": {},
     "outputs": [
      {
       "ename": "NameError",
       "evalue": "name 'Descriptors' is not defined",
       "output_type": "pyerr",
       "traceback": [
        "\u001b[0;31m---------------------------------------------------------------------------\u001b[0m\n\u001b[0;31mNameError\u001b[0m                                 Traceback (most recent call last)",
        "\u001b[0;32m<ipython-input-24-ddee7e6da50c>\u001b[0m in \u001b[0;36m<module>\u001b[0;34m()\u001b[0m\n\u001b[1;32m      1\u001b[0m \u001b[0msuppl\u001b[0m \u001b[0;34m=\u001b[0m \u001b[0mChem\u001b[0m\u001b[0;34m.\u001b[0m\u001b[0mSDMolSupplier\u001b[0m\u001b[0;34m(\u001b[0m\u001b[0;34m\"6.sdf\"\u001b[0m\u001b[0;34m)\u001b[0m\u001b[0;34m\u001b[0m\u001b[0m\n\u001b[1;32m      2\u001b[0m \u001b[0;32mfor\u001b[0m \u001b[0mmol\u001b[0m \u001b[0;32min\u001b[0m \u001b[0msuppl\u001b[0m\u001b[0;34m:\u001b[0m\u001b[0;34m\u001b[0m\u001b[0m\n\u001b[0;32m----> 3\u001b[0;31m        \u001b[0;32mprint\u001b[0m \u001b[0mDescriptors\u001b[0m\u001b[0;34m.\u001b[0m\u001b[0mTPSA\u001b[0m\u001b[0;34m(\u001b[0m\u001b[0mmol\u001b[0m\u001b[0;34m)\u001b[0m\u001b[0;34m\u001b[0m\u001b[0m\n\u001b[0m",
        "\u001b[0;31mNameError\u001b[0m: name 'Descriptors' is not defined"
       ]
      }
     ],
     "prompt_number": 24
    },
    {
     "cell_type": "code",
     "collapsed": false,
     "input": [
      "smis= ('O=c1ccc2ccccc2n1',\n",
      "       'Cc1nnnn1C',\n",
      "       'CCc1ccc2nc(=O)c(cc2c1)Cc1nnnn1C1CCCCC1',\n",
      "       'c1cnc2cc3ccnc3cc12',\n",
      "       'c1cc2cc3ccnc3cc2n1',\n",
      "       'O=c1ccnc(c1)-c1cnc2cc3ccnc3cc12',\n",
      "       'O=c1ccnc(c1)-c1cc1',\n",
      "       )\n",
      "for smi in smis:\n",
      "      m = Chem.MolFromSmiles(smi,False)\n",
      "      try:\n",
      "          m.UpdatePropertyCache(False)\n",
      "          cp = Chem.Mol(m)\n",
      "          Chem.SanitizeMol(cp)\n",
      "          m = cp\n",
      "          print 'fine:',Chem.MolToSmiles(m)"
     ],
     "language": "python",
     "metadata": {},
     "outputs": [
      {
       "ename": "IndentationError",
       "evalue": "unexpected unindent (<ipython-input-26-961fc11c2620>, line 16)",
       "output_type": "pyerr",
       "traceback": [
        "\u001b[0;36m  File \u001b[0;32m\"<ipython-input-26-961fc11c2620>\"\u001b[0;36m, line \u001b[0;32m16\u001b[0m\n\u001b[0;31m    print 'fine:',Chem.MolToSmiles(m)\u001b[0m\n\u001b[0m                                     ^\u001b[0m\n\u001b[0;31mIndentationError\u001b[0m\u001b[0;31m:\u001b[0m unexpected unindent\n"
       ]
      }
     ],
     "prompt_number": 26
    },
    {
     "cell_type": "code",
     "collapsed": false,
     "input": [
      "from rdkit import Chem, DataStructs\n",
      "from rdkit.Chem import AllChem\n",
      "from sklearn.ensemble import RandomForestClassifier\n",
      "import numpy\n",
      "\n",
      "# generate four molecules\n",
      "m1 = Chem.MolFromSmiles('c1ccccc1')\n",
      "m2 = Chem.MolFromSmiles('c1ccccc1CC')\n",
      "m3 = Chem.MolFromSmiles('c1ccncc1')\n",
      "m4 = Chem.MolFromSmiles('c1ccncc1CC')\n",
      "mols = [m1, m2, m3, m4]\n",
      "\n",
      "# generate fingeprints: Morgan fingerprint with radius 2\n",
      "fps = [AllChem.GetMorganFingerprintAsBitVect(m, 2) for m in mols]\n",
      "\n",
      "# convert the RDKit explicit vectors into numpy arrays\n",
      "np_fps = []\n",
      "for fp in fps:\n",
      "  arr = numpy.zeros((1,))\n",
      "  DataStructs.ConvertToNumpyArray(fp, arr)\n",
      "  np_fps.append(arr)"
     ],
     "language": "python",
     "metadata": {},
     "outputs": [],
     "prompt_number": 27
    },
    {
     "cell_type": "code",
     "collapsed": false,
     "input": [
      "fps"
     ],
     "language": "python",
     "metadata": {},
     "outputs": [
      {
       "metadata": {},
       "output_type": "pyout",
       "prompt_number": 28,
       "text": [
        "[<rdkit.DataStructs.cDataStructs.ExplicitBitVect at 0x105549750>,\n",
        " <rdkit.DataStructs.cDataStructs.ExplicitBitVect at 0x10b0d2210>,\n",
        " <rdkit.DataStructs.cDataStructs.ExplicitBitVect at 0x10b0d2280>,\n",
        " <rdkit.DataStructs.cDataStructs.ExplicitBitVect at 0x10b0d22f0>]"
       ]
      }
     ],
     "prompt_number": 28
    },
    {
     "cell_type": "code",
     "collapsed": false,
     "input": [
      "np_fps"
     ],
     "language": "python",
     "metadata": {},
     "outputs": [
      {
       "metadata": {},
       "output_type": "pyout",
       "prompt_number": 29,
       "text": [
        "[array([ 0.,  0.,  0., ...,  0.,  0.,  0.]),\n",
        " array([ 0.,  0.,  0., ...,  0.,  0.,  0.]),\n",
        " array([ 0.,  0.,  0., ...,  0.,  0.,  0.]),\n",
        " array([ 0.,  0.,  0., ...,  0.,  0.,  0.])]"
       ]
      }
     ],
     "prompt_number": 29
    },
    {
     "cell_type": "code",
     "collapsed": false,
     "input": [
      "print(np_fps)"
     ],
     "language": "python",
     "metadata": {},
     "outputs": [
      {
       "output_type": "stream",
       "stream": "stdout",
       "text": [
        "[array([ 0.,  0.,  0., ...,  0.,  0.,  0.]), array([ 0.,  0.,  0., ...,  0.,  0.,  0.]), array([ 0.,  0.,  0., ...,  0.,  0.,  0.]), array([ 0.,  0.,  0., ...,  0.,  0.,  0.])]\n"
       ]
      }
     ],
     "prompt_number": 30
    },
    {
     "cell_type": "code",
     "collapsed": false,
     "input": [
      "suppl = Chem.SDMolSupplier(\"6.sdf\")\n",
      "fps = [AllChem.GetMorganFingerprintAsBitVect(m, 2) for suppl in mols]"
     ],
     "language": "python",
     "metadata": {},
     "outputs": [],
     "prompt_number": 31
    },
    {
     "cell_type": "code",
     "collapsed": false,
     "input": [
      "np_fps = []\n",
      "for fp in fps:\n",
      "  arr = numpy.zeros((1,))\n",
      "  DataStructs.ConvertToNumpyArray(fp, arr)\n",
      "  np_fps.append(arr)"
     ],
     "language": "python",
     "metadata": {},
     "outputs": [],
     "prompt_number": 32
    },
    {
     "cell_type": "code",
     "collapsed": false,
     "input": [
      "file = open(\"newfile.txt\", \"w\")\n",
      "\n",
      "file.write(\"lamb\")\n",
      "\n",
      "file.write(\"and another line\\n\")\n",
      "\n",
      "file.close()"
     ],
     "language": "python",
     "metadata": {},
     "outputs": [],
     "prompt_number": 33
    },
    {
     "cell_type": "code",
     "collapsed": false,
     "input": [
      "np_fps"
     ],
     "language": "python",
     "metadata": {},
     "outputs": [
      {
       "metadata": {},
       "output_type": "pyout",
       "prompt_number": 34,
       "text": [
        "[array([ 0.,  0.,  0., ...,  0.,  0.,  0.]),\n",
        " array([ 0.,  0.,  0., ...,  0.,  0.,  0.]),\n",
        " array([ 0.,  0.,  0., ...,  0.,  0.,  0.]),\n",
        " array([ 0.,  0.,  0., ...,  0.,  0.,  0.])]"
       ]
      }
     ],
     "prompt_number": 34
    },
    {
     "cell_type": "code",
     "collapsed": false,
     "input": [
      "from rdkit import Chem, DataStructs\n",
      "from rdkit.Chem import AllChem\n",
      "from sklearn.ensemble import RandomForestClassifier\n",
      "import numpy\n",
      "\n",
      "# generate four molecules\n",
      "m1 = Chem.MolFromSmiles('c1ccccc1')\n",
      "m2 = Chem.MolFromSmiles('c1ccccc1CC')\n",
      "m3 = Chem.MolFromSmiles('c1ccncc1')\n",
      "m4 = Chem.MolFromSmiles('c1ccncc1CC')\n",
      "mols = [m1, m2, m3, m4]\n",
      "\n",
      "# generate fingeprints: Morgan fingerprint with radius 2\n",
      "fps = [AllChem.GetMorganFingerprintAsBitVect(m, 2) for m in mols]\n",
      "\n",
      "# convert the RDKit explicit vectors into numpy arrays\n",
      "np_fps = []\n",
      "for fp in fps:\n",
      "  arr = numpy.zeros((1,))\n",
      "  DataStructs.ConvertToNumpyArray(fp, arr)\n",
      "  np_fps.append(arr)\n",
      "\n",
      "# get a random forest classifiert with 100 trees\n",
      "rf = RandomForestClassifier(n_estimators=100, random_state=1123)\n",
      "\n",
      "# train the random forest\n",
      "# with the first two molecules being actives (class 1) and\n",
      "# the last two being inactives (class 0)\n",
      "ys_fit = [1, 1, 0, 0]\n",
      "rf.fit(np_fps, ys_fit)\n",
      "\n",
      "# use the random forest to predict a new molecule\n",
      "m5 = Chem.MolFromSmiles('c1ccccc1O')\n",
      "fp = numpy.zeros((1,))\n",
      "DataStructs.ConvertToNumpyArray(AllChem.GetMorganFingerprintAsBitVect(m5, 2), fp)\n",
      "\n",
      "print rf.predict(fp)\n",
      "print rf.predict_proba(fp)"
     ],
     "language": "python",
     "metadata": {},
     "outputs": [
      {
       "output_type": "stream",
       "stream": "stdout",
       "text": [
        "[1]\n",
        "[[ 0.2  0.8]]\n"
       ]
      }
     ],
     "prompt_number": 35
    },
    {
     "cell_type": "code",
     "collapsed": false,
     "input": [
      "from rdkit.Chem.Draw import SimilarityMaps\n",
      "\n",
      "# helper function\n",
      "def getProba(fp, predictionFunction):\n",
      "  return predictionFunction(fp)[0][1]\n",
      "\n",
      "m5 = Chem.MolFromSmiles('c1ccccc1O')\n",
      "fig, maxweight = SimilarityMaps.GetSimilarityMapForModel(m5, SimilarityMaps.GetMorganFingerprint, lambda x: getProba(x, rf.predict_proba))"
     ],
     "language": "python",
     "metadata": {},
     "outputs": [],
     "prompt_number": 38
    },
    {
     "cell_type": "code",
     "collapsed": false,
     "input": [
      "from rdkit.Chem.Draw import SimilarityMaps\n",
      "\n",
      "# helper function\n",
      "def getProba(fp, predictionFunction):\n",
      "  return predictionFunction(fp)[0][1]\n",
      "\n",
      "m5 = Chem.MolFromSmiles('c1ccccc1O')\n",
      "fig, maxweight = SimilarityMaps.GetSimilarityMapForModel(m5, SimilarityMaps.GetMorganFingerprint, lambda x: getProba(x, rf.predict_proba))"
     ],
     "language": "python",
     "metadata": {},
     "outputs": [],
     "prompt_number": 39
    },
    {
     "cell_type": "code",
     "collapsed": false,
     "input": [
      "smis=[\"COc1ccc(C(Nc2nc3c(ncn3COCC=O)c(=O)[nH]2)(c2ccccc2)c2ccccc2)cc1\",\n",
      "      \"COc1ccc(C(Nc2nc3c(ncn3COC(CO)(CO)CO)c(=O)[nH]2)(c2ccccc2)c2ccccc2)cc1\"]\n",
      "ms = [Chem.MolFromSmiles(x) for x in smis]\n",
      "\n",
      "from rdkit import Chem\n",
      "from rdkit.Chem import MCS\n",
      "\n",
      "def label(a):\n",
      "  \" a simple hash combining atom number and hybridization \"\n",
      "  return 100*int(a.GetHybridization())+a.GetAtomicNum()\n",
      "\n",
      "# copy the molecules, since we will be changing them\n",
      "nms = [Chem.Mol(x) for x in ms]\n",
      "for nm in nms:\n",
      "  for at in nm.GetAtoms():\n",
      "      at.SetIsotope(label(at))\n",
      "\n",
      "mcs=MCS.FindMCS(nms,atomCompare='isotopes')\n",
      "print mcs.smarts"
     ],
     "language": "python",
     "metadata": {},
     "outputs": [
      {
       "output_type": "stream",
       "stream": "stdout",
       "text": [
        "[406*]-[308*]-[306*]:1:[306*]:[306*]:[306*](:[306*]:[306*]:1)-[406*](-[306*]:1:[306*]:[306*]:[306*]:[306*]:[306*]:1)(-[306*]:1:[306*]:[306*]:[306*]:[306*]:[306*]:1)-[307*]-[306*]:1:[307*]:[306*]:2:[306*](:[306*](:[307*]:1)=[308*]):[307*]:[306*]:[307*]:2-[406*]-[408*]-[406*]\n"
       ]
      }
     ],
     "prompt_number": 40
    },
    {
     "cell_type": "code",
     "collapsed": false,
     "input": [
      "from rdkit import Chem, DataStructs\n",
      "from rdkit.Chem import AllChem\n",
      "from sklearn.ensemble import RandomForestClassifier\n",
      "import numpy\n",
      "\n",
      "# generate four molecules\n",
      "m1 = Chem.MolFromSmiles('c1ccccc1')\n",
      "m2 = Chem.MolFromSmiles('c1ccccc1CC')\n",
      "m3 = Chem.MolFromSmiles('c1ccncc1')\n",
      "m4 = Chem.MolFromSmiles('c1ccncc1CC')\n",
      "mols = [m1, m2, m3, m4]\n",
      "\n",
      "# generate fingeprints: Morgan fingerprint with radius 2\n",
      "fps = [AllChem.GetMorganFingerprintAsBitVect(m, 2) for m in mols]\n",
      "\n",
      "# convert the RDKit explicit vectors into numpy arrays\n",
      "np_fps = []\n",
      "for fp in fps:\n",
      "  arr = numpy.zeros((1,))\n",
      "  DataStructs.ConvertToNumpyArray(fp, arr)\n",
      "  np_fps.append(arr)"
     ],
     "language": "python",
     "metadata": {},
     "outputs": [],
     "prompt_number": 1
    },
    {
     "cell_type": "code",
     "collapsed": false,
     "input": [
      "from rdkit.Chem import AllChem\n",
      "m1 = Chem.MolFromSmiles('Cc1ccccc1')\n",
      "fp1 = AllChem.GetMorganFingerprint(m1,2)\n",
      "np_fps = []\n",
      "for fp in fps:\n",
      "  arr = numpy.zeros((1,))\n",
      "  DataStructs.ConvertToNumpyArray(fp, arr)\n",
      "  np_fps.append(arr)"
     ],
     "language": "python",
     "metadata": {},
     "outputs": [],
     "prompt_number": 2
    },
    {
     "cell_type": "code",
     "collapsed": false,
     "input": [
      "np_fps"
     ],
     "language": "python",
     "metadata": {},
     "outputs": [
      {
       "metadata": {},
       "output_type": "pyout",
       "prompt_number": 3,
       "text": [
        "[array([ 0.,  0.,  0., ...,  0.,  0.,  0.]),\n",
        " array([ 0.,  0.,  0., ...,  0.,  0.,  0.]),\n",
        " array([ 0.,  0.,  0., ...,  0.,  0.,  0.]),\n",
        " array([ 0.,  0.,  0., ...,  0.,  0.,  0.])]"
       ]
      }
     ],
     "prompt_number": 3
    },
    {
     "cell_type": "code",
     "collapsed": false,
     "input": [
      "mols = Chem.SDMolSupplier(\"6.sdf\")\n",
      "fps = [AllChem.GetMorganFingerprintAsBitVect(m, 2) for m in mols]\n",
      "np_fps = []\n",
      "for fp in fps:\n",
      "  arr = numpy.zeros((1,))\n",
      "  DataStructs.ConvertToNumpyArray(fp, arr)\n",
      "  np_fps.append(arr)\n",
      "numpy.savetxt(\"MorganFingerPrint.csv\", np_fps, delimiter=\",\")"
     ],
     "language": "python",
     "metadata": {},
     "outputs": [],
     "prompt_number": 6
    },
    {
     "cell_type": "code",
     "collapsed": false,
     "input": [
      "np_fps"
     ],
     "language": "python",
     "metadata": {},
     "outputs": [
      {
       "metadata": {},
       "output_type": "pyout",
       "prompt_number": 5,
       "text": [
        "[array([ 0.,  1.,  0., ...,  0.,  0.,  0.]),\n",
        " array([ 0.,  0.,  0., ...,  0.,  0.,  0.]),\n",
        " array([ 0.,  0.,  0., ...,  0.,  0.,  0.]),\n",
        " array([ 0.,  0.,  0., ...,  0.,  0.,  0.]),\n",
        " array([ 0.,  1.,  0., ...,  0.,  0.,  0.]),\n",
        " array([ 0.,  0.,  0., ...,  0.,  0.,  0.]),\n",
        " array([ 0.,  0.,  0., ...,  0.,  0.,  0.]),\n",
        " array([ 0.,  0.,  0., ...,  0.,  0.,  0.]),\n",
        " array([ 0.,  0.,  0., ...,  0.,  0.,  0.]),\n",
        " array([ 0.,  0.,  0., ...,  0.,  0.,  0.]),\n",
        " array([ 0.,  0.,  0., ...,  0.,  0.,  0.]),\n",
        " array([ 0.,  0.,  0., ...,  0.,  0.,  0.]),\n",
        " array([ 0.,  1.,  0., ...,  0.,  0.,  0.]),\n",
        " array([ 0.,  0.,  0., ...,  0.,  0.,  0.]),\n",
        " array([ 0.,  0.,  0., ...,  0.,  0.,  0.]),\n",
        " array([ 0.,  0.,  0., ...,  0.,  0.,  0.]),\n",
        " array([ 0.,  0.,  0., ...,  0.,  0.,  0.]),\n",
        " array([ 0.,  1.,  0., ...,  0.,  0.,  0.]),\n",
        " array([ 0.,  0.,  1., ...,  0.,  0.,  0.]),\n",
        " array([ 0.,  0.,  0., ...,  0.,  0.,  0.]),\n",
        " array([ 0.,  0.,  0., ...,  0.,  0.,  0.]),\n",
        " array([ 0.,  1.,  0., ...,  0.,  0.,  0.]),\n",
        " array([ 0.,  0.,  0., ...,  0.,  0.,  0.]),\n",
        " array([ 0.,  0.,  0., ...,  0.,  0.,  0.]),\n",
        " array([ 0.,  0.,  0., ...,  0.,  0.,  0.]),\n",
        " array([ 0.,  0.,  0., ...,  0.,  0.,  0.]),\n",
        " array([ 0.,  0.,  0., ...,  0.,  0.,  0.]),\n",
        " array([ 0.,  1.,  0., ...,  0.,  0.,  0.]),\n",
        " array([ 0.,  0.,  0., ...,  0.,  0.,  0.]),\n",
        " array([ 0.,  0.,  0., ...,  0.,  0.,  0.]),\n",
        " array([ 0.,  0.,  0., ...,  0.,  0.,  0.]),\n",
        " array([ 0.,  1.,  0., ...,  0.,  0.,  0.]),\n",
        " array([ 0.,  0.,  0., ...,  0.,  0.,  0.]),\n",
        " array([ 0.,  0.,  0., ...,  0.,  0.,  0.]),\n",
        " array([ 0.,  0.,  0., ...,  0.,  0.,  0.]),\n",
        " array([ 0.,  0.,  0., ...,  0.,  0.,  0.]),\n",
        " array([ 0.,  0.,  0., ...,  0.,  0.,  0.]),\n",
        " array([ 0.,  0.,  0., ...,  0.,  0.,  0.]),\n",
        " array([ 0.,  0.,  0., ...,  0.,  0.,  0.]),\n",
        " array([ 0.,  0.,  0., ...,  0.,  0.,  0.]),\n",
        " array([ 0.,  0.,  0., ...,  0.,  0.,  0.]),\n",
        " array([ 0.,  0.,  0., ...,  0.,  0.,  0.]),\n",
        " array([ 0.,  0.,  0., ...,  0.,  0.,  0.]),\n",
        " array([ 0.,  0.,  0., ...,  0.,  0.,  0.]),\n",
        " array([ 0.,  0.,  0., ...,  0.,  0.,  0.]),\n",
        " array([ 0.,  0.,  0., ...,  0.,  0.,  0.]),\n",
        " array([ 0.,  0.,  0., ...,  0.,  0.,  0.]),\n",
        " array([ 0.,  0.,  0., ...,  0.,  0.,  0.]),\n",
        " array([ 0.,  0.,  0., ...,  0.,  0.,  0.]),\n",
        " array([ 0.,  0.,  0., ...,  0.,  0.,  0.]),\n",
        " array([ 0.,  0.,  0., ...,  0.,  0.,  0.]),\n",
        " array([ 0.,  0.,  0., ...,  0.,  0.,  0.]),\n",
        " array([ 0.,  0.,  0., ...,  0.,  0.,  0.]),\n",
        " array([ 0.,  0.,  0., ...,  0.,  0.,  0.]),\n",
        " array([ 0.,  0.,  0., ...,  0.,  0.,  0.]),\n",
        " array([ 0.,  0.,  0., ...,  0.,  0.,  0.]),\n",
        " array([ 0.,  0.,  0., ...,  0.,  0.,  0.]),\n",
        " array([ 0.,  0.,  0., ...,  0.,  0.,  0.]),\n",
        " array([ 0.,  0.,  0., ...,  0.,  0.,  0.]),\n",
        " array([ 0.,  0.,  0., ...,  0.,  0.,  0.]),\n",
        " array([ 0.,  0.,  0., ...,  0.,  0.,  0.]),\n",
        " array([ 0.,  0.,  0., ...,  0.,  0.,  0.]),\n",
        " array([ 0.,  0.,  0., ...,  0.,  0.,  0.]),\n",
        " array([ 0.,  0.,  0., ...,  0.,  0.,  0.]),\n",
        " array([ 0.,  0.,  0., ...,  0.,  0.,  0.]),\n",
        " array([ 0.,  0.,  0., ...,  0.,  0.,  0.]),\n",
        " array([ 0.,  0.,  0., ...,  0.,  0.,  0.]),\n",
        " array([ 0.,  0.,  0., ...,  0.,  0.,  0.]),\n",
        " array([ 0.,  0.,  0., ...,  0.,  0.,  0.]),\n",
        " array([ 0.,  0.,  0., ...,  0.,  0.,  0.]),\n",
        " array([ 0.,  0.,  0., ...,  0.,  0.,  0.]),\n",
        " array([ 0.,  0.,  0., ...,  0.,  0.,  0.]),\n",
        " array([ 0.,  0.,  0., ...,  0.,  0.,  0.]),\n",
        " array([ 0.,  0.,  0., ...,  0.,  0.,  0.]),\n",
        " array([ 0.,  0.,  0., ...,  0.,  0.,  0.]),\n",
        " array([ 0.,  0.,  0., ...,  0.,  0.,  0.]),\n",
        " array([ 0.,  0.,  0., ...,  0.,  0.,  0.]),\n",
        " array([ 0.,  0.,  0., ...,  0.,  0.,  0.]),\n",
        " array([ 0.,  0.,  0., ...,  0.,  0.,  0.]),\n",
        " array([ 0.,  0.,  0., ...,  0.,  0.,  0.]),\n",
        " array([ 0.,  0.,  0., ...,  0.,  0.,  0.]),\n",
        " array([ 0.,  0.,  0., ...,  0.,  0.,  0.]),\n",
        " array([ 0.,  0.,  0., ...,  0.,  0.,  0.]),\n",
        " array([ 0.,  0.,  0., ...,  0.,  0.,  0.]),\n",
        " array([ 0.,  0.,  0., ...,  0.,  0.,  0.]),\n",
        " array([ 0.,  0.,  0., ...,  0.,  0.,  0.]),\n",
        " array([ 0.,  0.,  0., ...,  0.,  0.,  0.]),\n",
        " array([ 0.,  0.,  0., ...,  0.,  0.,  0.]),\n",
        " array([ 0.,  0.,  0., ...,  0.,  0.,  0.]),\n",
        " array([ 0.,  0.,  0., ...,  0.,  0.,  0.]),\n",
        " array([ 0.,  0.,  0., ...,  0.,  0.,  0.]),\n",
        " array([ 0.,  0.,  0., ...,  0.,  0.,  0.]),\n",
        " array([ 0.,  0.,  0., ...,  0.,  0.,  0.]),\n",
        " array([ 0.,  0.,  0., ...,  0.,  0.,  0.]),\n",
        " array([ 0.,  0.,  0., ...,  0.,  0.,  0.]),\n",
        " array([ 0.,  0.,  0., ...,  0.,  0.,  0.]),\n",
        " array([ 0.,  0.,  0., ...,  0.,  0.,  0.]),\n",
        " array([ 0.,  0.,  0., ...,  0.,  0.,  0.]),\n",
        " array([ 0.,  0.,  0., ...,  0.,  0.,  0.]),\n",
        " array([ 0.,  0.,  0., ...,  0.,  0.,  0.]),\n",
        " array([ 0.,  0.,  0., ...,  0.,  0.,  0.]),\n",
        " array([ 0.,  0.,  0., ...,  0.,  0.,  0.]),\n",
        " array([ 0.,  0.,  0., ...,  0.,  0.,  0.]),\n",
        " array([ 0.,  0.,  0., ...,  0.,  0.,  0.]),\n",
        " array([ 0.,  0.,  0., ...,  0.,  0.,  0.]),\n",
        " array([ 0.,  0.,  0., ...,  0.,  0.,  0.]),\n",
        " array([ 0.,  0.,  0., ...,  0.,  0.,  0.]),\n",
        " array([ 0.,  0.,  0., ...,  0.,  0.,  0.]),\n",
        " array([ 0.,  0.,  0., ...,  0.,  0.,  0.]),\n",
        " array([ 0.,  0.,  0., ...,  0.,  0.,  0.]),\n",
        " array([ 0.,  0.,  0., ...,  0.,  0.,  0.]),\n",
        " array([ 0.,  0.,  0., ...,  0.,  0.,  0.]),\n",
        " array([ 0.,  0.,  0., ...,  0.,  0.,  0.]),\n",
        " array([ 0.,  0.,  0., ...,  0.,  0.,  0.]),\n",
        " array([ 0.,  0.,  0., ...,  0.,  0.,  0.]),\n",
        " array([ 0.,  0.,  0., ...,  0.,  0.,  0.]),\n",
        " array([ 0.,  0.,  0., ...,  0.,  0.,  0.]),\n",
        " array([ 0.,  0.,  0., ...,  0.,  0.,  0.]),\n",
        " array([ 0.,  0.,  0., ...,  0.,  0.,  0.]),\n",
        " array([ 0.,  0.,  0., ...,  0.,  0.,  0.]),\n",
        " array([ 0.,  0.,  0., ...,  0.,  0.,  0.]),\n",
        " array([ 0.,  0.,  0., ...,  0.,  0.,  0.]),\n",
        " array([ 0.,  0.,  0., ...,  0.,  0.,  0.]),\n",
        " array([ 0.,  0.,  0., ...,  0.,  0.,  0.]),\n",
        " array([ 0.,  0.,  0., ...,  0.,  0.,  0.]),\n",
        " array([ 0.,  0.,  0., ...,  0.,  0.,  0.]),\n",
        " array([ 0.,  0.,  0., ...,  0.,  0.,  0.]),\n",
        " array([ 0.,  0.,  0., ...,  0.,  0.,  0.]),\n",
        " array([ 0.,  0.,  0., ...,  0.,  0.,  0.]),\n",
        " array([ 0.,  0.,  0., ...,  0.,  0.,  0.]),\n",
        " array([ 0.,  0.,  0., ...,  0.,  0.,  0.]),\n",
        " array([ 0.,  0.,  0., ...,  0.,  0.,  0.]),\n",
        " array([ 0.,  0.,  0., ...,  0.,  0.,  0.]),\n",
        " array([ 0.,  0.,  0., ...,  0.,  0.,  0.]),\n",
        " array([ 0.,  0.,  0., ...,  0.,  0.,  0.]),\n",
        " array([ 0.,  0.,  0., ...,  0.,  0.,  0.]),\n",
        " array([ 0.,  0.,  0., ...,  0.,  0.,  0.]),\n",
        " array([ 0.,  1.,  0., ...,  0.,  0.,  0.]),\n",
        " array([ 0.,  1.,  0., ...,  0.,  0.,  0.]),\n",
        " array([ 0.,  0.,  0., ...,  0.,  0.,  0.]),\n",
        " array([ 0.,  0.,  0., ...,  0.,  0.,  0.]),\n",
        " array([ 0.,  0.,  0., ...,  0.,  0.,  0.]),\n",
        " array([ 0.,  0.,  0., ...,  0.,  0.,  0.]),\n",
        " array([ 0.,  0.,  0., ...,  0.,  0.,  0.])]"
       ]
      }
     ],
     "prompt_number": 5
    },
    {
     "cell_type": "code",
     "collapsed": false,
     "input": [],
     "language": "python",
     "metadata": {},
     "outputs": []
    }
   ],
   "metadata": {}
  }
 ]
}