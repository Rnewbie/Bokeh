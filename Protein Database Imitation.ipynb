{
 "metadata": {
  "name": "",
  "signature": "sha256:922e45388159efbd68fb966eb23dc542f507586fd8372c5630de3970fd260f3e"
 },
 "nbformat": 3,
 "nbformat_minor": 0,
 "worksheets": [
  {
   "cells": [
    {
     "cell_type": "code",
     "collapsed": false,
     "input": [
      "from collections import OrderedDict\n",
      "import pandas as pd\n",
      "import numpy as np\n",
      "\n",
      "from bokeh.charts import Scatter\n",
      "from bokeh.plotting import *"
     ],
     "language": "python",
     "metadata": {},
     "outputs": [],
     "prompt_number": 62
    },
    {
     "cell_type": "code",
     "collapsed": false,
     "input": [
      "from IPython.html.widgets import interact, interactive, fixed\n",
      "from IPython.html import widgets\n",
      "from IPython.display import clear_output, display, HTML"
     ],
     "language": "python",
     "metadata": {},
     "outputs": [],
     "prompt_number": 57
    },
    {
     "cell_type": "code",
     "collapsed": false,
     "input": [
      "%connect_info"
     ],
     "language": "python",
     "metadata": {},
     "outputs": [
      {
       "output_type": "stream",
       "stream": "stdout",
       "text": [
        "{\n",
        "  \"stdin_port\": 58859, \n",
        "  \"ip\": \"127.0.0.1\", \n",
        "  \"control_port\": 58860, \n",
        "  \"hb_port\": 58861, \n",
        "  \"signature_scheme\": \"hmac-sha256\", \n",
        "  \"key\": \"33b9f28b-4256-4b87-9a85-8b402aaa896f\", \n",
        "  \"shell_port\": 58857, \n",
        "  \"transport\": \"tcp\", \n",
        "  \"iopub_port\": 58858\n",
        "}\n",
        "\n",
        "Paste the above JSON into a file, and connect with:\n",
        "    $> ipython <app> --existing <file>\n",
        "or, if you are local, you can connect with just:\n",
        "    $> ipython <app> --existing kernel-454ee8cf-3f31-497b-b8fb-24d35f90f32f.json \n",
        "or even just:\n",
        "    $> ipython <app> --existing \n",
        "if this is the most recent IPython session you have started.\n"
       ]
      }
     ],
     "prompt_number": 58
    },
    {
     "cell_type": "code",
     "collapsed": false,
     "input": [
      "data = pd.read_csv('BTPCA.csv')"
     ],
     "language": "python",
     "metadata": {},
     "outputs": [],
     "prompt_number": 59
    },
    {
     "cell_type": "code",
     "collapsed": false,
     "input": [
      "print(data[:10])"
     ],
     "language": "python",
     "metadata": {},
     "outputs": [
      {
       "output_type": "stream",
       "stream": "stdout",
       "text": [
        "         PC1        PC2        PC3   Cluster\n",
        "0 -11.091735   0.564031 -12.072810    Active\n",
        "1  -4.258083  -8.151628  -3.613024    Active\n",
        "2   4.036799  -3.565997  -3.612545    Active\n",
        "3 -21.844654  -1.703946  -6.998237    Active\n",
        "4  23.046238  -7.118425   3.363710  Inactive\n",
        "5  17.538620   7.997041  -5.010464  Inactive\n",
        "6  35.403818  34.353603  12.452041  Inactive\n",
        "7  31.058139   2.226715   8.019222  Inactive\n",
        "8 -10.567484   4.316273  -9.031358    Active\n",
        "9  21.902395 -23.891166  14.609678  Inactive\n"
       ]
      }
     ],
     "prompt_number": 60
    },
    {
     "cell_type": "code",
     "collapsed": false,
     "input": [
      "df = data[[\"PC1\", \"PC2\", \"Cluster\"]]\n",
      "g = df.groupby(\"Cluster\")\n",
      "\n",
      "scatter = Scatter(g)\n",
      "scatter.title(\"PCA Plot\").legend(\"top_left\").width(600).height(400).notebook().show()"
     ],
     "language": "python",
     "metadata": {},
     "outputs": [
      {
       "html": [
        "<script type=\"text/javascript\">\n",
        "        $(function() {\n",
        "            var modelid = \"61257ead-d4f5-47e9-92a1-31ada6d36a38\";\n",
        "            var modeltype = \"Plot\";\n",
        "            var elementid = \"ac38e073-847d-49aa-9e7a-e7dccb1431a3\";\n",
        "            Bokeh.logger.info(\"Realizing plot:\")\n",
        "            Bokeh.logger.info(\" - modeltype: Plot\");\n",
        "            Bokeh.logger.info(\" - modelid: 61257ead-d4f5-47e9-92a1-31ada6d36a38\");\n",
        "            Bokeh.logger.info(\" - elementid: ac38e073-847d-49aa-9e7a-e7dccb1431a3\");\n",
        "            var all_models = [{\"attributes\": {\"doc\": null, \"id\": \"134664ff-5160-4de2-aae1-d5af8cf5b450\", \"tags\": []}, \"type\": \"BasicTicker\", \"id\": \"134664ff-5160-4de2-aae1-d5af8cf5b450\"}, {\"attributes\": {\"x_range_name\": \"default\", \"data_source\": {\"type\": \"ColumnDataSource\", \"id\": \"2a03652d-bc13-44e1-8b5d-a2d88ddc4c1c\"}, \"name\": null, \"server_data_source\": null, \"doc\": null, \"y_range_name\": \"default\", \"glyphspec\": {\"line_color\": {\"value\": \"#5ab738\"}, \"line_alpha\": {\"units\": \"data\", \"value\": 1.0}, \"angle\": {\"units\": \"data\", \"field\": \"angle\"}, \"fill_color\": {\"value\": \"#5ab738\"}, \"line_width\": {\"units\": \"data\", \"field\": \"line_width\"}, \"fill_alpha\": {\"units\": \"data\", \"value\": 0.2}, \"y\": {\"units\": \"data\", \"field\": \"y_Inactive\"}, \"x\": {\"units\": \"data\", \"field\": \"x_Inactive\"}, \"type\": \"square\", \"size\": {\"units\": \"screen\", \"value\": 10}}, \"id\": \"5b6a4e8c-c943-4e1e-8b1e-d727c4e0d237\"}, \"type\": \"Glyph\", \"id\": \"5b6a4e8c-c943-4e1e-8b1e-d727c4e0d237\"}, {\"attributes\": {\"x_range\": {\"type\": \"Range1d\", \"id\": \"9fc058e5-8c9e-4647-bbde-c1d28f0dd966\"}, \"right\": [], \"data_sources\": [], \"tools\": [{\"type\": \"PanTool\", \"id\": \"5726c411-ae7a-47c8-8c5c-d4cd3097e573\"}, {\"type\": \"WheelZoomTool\", \"id\": \"1e0ff945-ad71-4e06-a2e6-da30cf50c105\"}, {\"type\": \"ResetTool\", \"id\": \"05283e25-d77d-4983-a653-29f8809070e9\"}, {\"type\": \"PreviewSaveTool\", \"id\": \"cce4aaa4-b939-4c96-ae9d-10f4c60b1309\"}], \"title\": \"PCA Plot\", \"extra_y_ranges\": {}, \"plot_width\": 600, \"renderers\": [{\"type\": \"LinearAxis\", \"id\": \"31cde569-973d-41e6-8e34-b1a651d5248d\"}, {\"type\": \"LinearAxis\", \"id\": \"6ff3c254-b7c0-462d-8cd9-d54387cca60d\"}, {\"type\": \"Grid\", \"id\": \"5a141ffb-c1c2-4ed4-820b-81e8895f9f5c\"}, {\"type\": \"Grid\", \"id\": \"b640ce90-5132-4d31-b174-7d2de47b94e7\"}, {\"type\": \"Glyph\", \"id\": \"9d19e285-cc32-4182-9e85-eb5a966d305f\"}, {\"type\": \"Glyph\", \"id\": \"5b6a4e8c-c943-4e1e-8b1e-d727c4e0d237\"}, {\"type\": \"Legend\", \"id\": \"aca3feeb-9f36-47c7-9a70-6a6121abc143\"}], \"extra_x_ranges\": {}, \"plot_height\": 400, \"above\": [], \"doc\": null, \"id\": \"61257ead-d4f5-47e9-92a1-31ada6d36a38\", \"y_range\": {\"type\": \"Range1d\", \"id\": \"e9104833-7103-4975-872a-2be8adf36d48\"}, \"below\": [{\"type\": \"LinearAxis\", \"id\": \"31cde569-973d-41e6-8e34-b1a651d5248d\"}], \"tags\": [], \"left\": [{\"type\": \"LinearAxis\", \"id\": \"6ff3c254-b7c0-462d-8cd9-d54387cca60d\"}]}, \"type\": \"Plot\", \"id\": \"61257ead-d4f5-47e9-92a1-31ada6d36a38\"}, {\"attributes\": {\"start\": -68.517053590000017, \"end\": 44.851170289999999, \"tags\": [], \"doc\": null, \"id\": \"9fc058e5-8c9e-4647-bbde-c1d28f0dd966\"}, \"type\": \"Range1d\", \"id\": \"9fc058e5-8c9e-4647-bbde-c1d28f0dd966\"}, {\"attributes\": {\"doc\": null, \"id\": \"7769abe5-f037-4cba-8c3e-2c8a33ff78ca\", \"tags\": []}, \"type\": \"BasicTicker\", \"id\": \"7769abe5-f037-4cba-8c3e-2c8a33ff78ca\"}, {\"attributes\": {\"doc\": null, \"id\": \"b6904408-492e-412a-8d89-f49232d5207b\", \"tags\": []}, \"type\": \"BasicTickFormatter\", \"id\": \"b6904408-492e-412a-8d89-f49232d5207b\"}, {\"attributes\": {\"plot\": {\"type\": \"Plot\", \"id\": \"61257ead-d4f5-47e9-92a1-31ada6d36a38\"}, \"orientation\": \"top_left\", \"tags\": [], \"doc\": null, \"id\": \"aca3feeb-9f36-47c7-9a70-6a6121abc143\", \"legends\": {\"Active\": [{\"type\": \"Glyph\", \"id\": \"9d19e285-cc32-4182-9e85-eb5a966d305f\"}], \"Inactive\": [{\"type\": \"Glyph\", \"id\": \"5b6a4e8c-c943-4e1e-8b1e-d727c4e0d237\"}]}}, \"type\": \"Legend\", \"id\": \"aca3feeb-9f36-47c7-9a70-6a6121abc143\"}, {\"attributes\": {\"plot\": {\"type\": \"Plot\", \"id\": \"61257ead-d4f5-47e9-92a1-31ada6d36a38\"}, \"tags\": [], \"doc\": null, \"dimension\": 1, \"ticker\": {\"type\": \"BasicTicker\", \"id\": \"7769abe5-f037-4cba-8c3e-2c8a33ff78ca\"}, \"id\": \"b640ce90-5132-4d31-b174-7d2de47b94e7\"}, \"type\": \"Grid\", \"id\": \"b640ce90-5132-4d31-b174-7d2de47b94e7\"}, {\"attributes\": {\"start\": -29.715643392000004, \"end\": 40.178079672000003, \"tags\": [], \"doc\": null, \"id\": \"e9104833-7103-4975-872a-2be8adf36d48\"}, \"type\": \"Range1d\", \"id\": \"e9104833-7103-4975-872a-2be8adf36d48\"}, {\"attributes\": {\"plot\": {\"type\": \"Plot\", \"id\": \"61257ead-d4f5-47e9-92a1-31ada6d36a38\"}, \"tags\": [], \"doc\": null, \"axis_label\": \"PC2\", \"formatter\": {\"type\": \"BasicTickFormatter\", \"id\": \"07dd17ee-57f8-48ed-b768-05ba2af03ffe\"}, \"ticker\": {\"type\": \"BasicTicker\", \"id\": \"7769abe5-f037-4cba-8c3e-2c8a33ff78ca\"}, \"id\": \"6ff3c254-b7c0-462d-8cd9-d54387cca60d\"}, \"type\": \"LinearAxis\", \"id\": \"6ff3c254-b7c0-462d-8cd9-d54387cca60d\"}, {\"attributes\": {\"plot\": {\"type\": \"Plot\", \"id\": \"61257ead-d4f5-47e9-92a1-31ada6d36a38\"}, \"dimensions\": [\"width\", \"height\"], \"tags\": [], \"doc\": null, \"id\": \"5726c411-ae7a-47c8-8c5c-d4cd3097e573\"}, \"type\": \"PanTool\", \"id\": \"5726c411-ae7a-47c8-8c5c-d4cd3097e573\"}, {\"attributes\": {\"x_range_name\": \"default\", \"data_source\": {\"type\": \"ColumnDataSource\", \"id\": \"2a03652d-bc13-44e1-8b5d-a2d88ddc4c1c\"}, \"name\": null, \"server_data_source\": null, \"doc\": null, \"y_range_name\": \"default\", \"glyphspec\": {\"line_color\": {\"value\": \"#f22c40\"}, \"line_alpha\": {\"units\": \"data\", \"value\": 1.0}, \"fill_color\": {\"value\": \"#f22c40\"}, \"line_width\": {\"units\": \"data\", \"field\": \"line_width\"}, \"fill_alpha\": {\"units\": \"data\", \"value\": 0.2}, \"y\": {\"units\": \"data\", \"field\": \"y_Active\"}, \"x\": {\"units\": \"data\", \"field\": \"x_Active\"}, \"type\": \"circle\", \"size\": {\"units\": \"screen\", \"value\": 10}}, \"id\": \"9d19e285-cc32-4182-9e85-eb5a966d305f\"}, \"type\": \"Glyph\", \"id\": \"9d19e285-cc32-4182-9e85-eb5a966d305f\"}, {\"attributes\": {\"plot\": {\"type\": \"Plot\", \"id\": \"61257ead-d4f5-47e9-92a1-31ada6d36a38\"}, \"dimensions\": [\"width\", \"height\"], \"tags\": [], \"doc\": null, \"id\": \"1e0ff945-ad71-4e06-a2e6-da30cf50c105\"}, \"type\": \"WheelZoomTool\", \"id\": \"1e0ff945-ad71-4e06-a2e6-da30cf50c105\"}, {\"attributes\": {\"plot\": {\"type\": \"Plot\", \"id\": \"61257ead-d4f5-47e9-92a1-31ada6d36a38\"}, \"tags\": [], \"doc\": null, \"dimension\": 0, \"ticker\": {\"type\": \"BasicTicker\", \"id\": \"134664ff-5160-4de2-aae1-d5af8cf5b450\"}, \"id\": \"5a141ffb-c1c2-4ed4-820b-81e8895f9f5c\"}, \"type\": \"Grid\", \"id\": \"5a141ffb-c1c2-4ed4-820b-81e8895f9f5c\"}, {\"attributes\": {\"doc\": null, \"id\": \"07dd17ee-57f8-48ed-b768-05ba2af03ffe\", \"tags\": []}, \"type\": \"BasicTickFormatter\", \"id\": \"07dd17ee-57f8-48ed-b768-05ba2af03ffe\"}, {\"attributes\": {\"plot\": {\"type\": \"Plot\", \"id\": \"61257ead-d4f5-47e9-92a1-31ada6d36a38\"}, \"tags\": [], \"doc\": null, \"id\": \"05283e25-d77d-4983-a653-29f8809070e9\"}, \"type\": \"ResetTool\", \"id\": \"05283e25-d77d-4983-a653-29f8809070e9\"}, {\"attributes\": {\"column_names\": [\"y_Active\", \"x_Inactive\", \"x_Active\", \"y_Inactive\"], \"tags\": [], \"doc\": null, \"selected\": [], \"discrete_ranges\": {}, \"cont_ranges\": {}, \"data\": {\"y_Active\": [0.564031136, -8.151628101, -3.5659974780000003, -1.7039457709999999, 4.316272986, -17.36376865, 2.1893887309999998, 7.660908847999999, 9.38956239, 3.276161143, -5.937334277000001], \"y_Inactive\": [-7.118424879, 7.997041482, 34.35360275, 2.226715035, -23.89116647, -10.32973171, 6.088312832000001], \"x_Inactive\": [23.04623784, 17.53862043, 35.4038183, 31.05813878, 21.90239497, 27.57308912, 20.50605839], \"x_Active\": [-11.09173548, -4.258082712, 4.036799422, -21.84465363, -10.56748434, -5.3787789660000005, -2.602129635, -4.037147332, -59.06970160000001, -49.44444863, -12.77099492]}, \"id\": \"2a03652d-bc13-44e1-8b5d-a2d88ddc4c1c\"}, \"type\": \"ColumnDataSource\", \"id\": \"2a03652d-bc13-44e1-8b5d-a2d88ddc4c1c\"}, {\"attributes\": {\"plot\": {\"type\": \"Plot\", \"id\": \"61257ead-d4f5-47e9-92a1-31ada6d36a38\"}, \"tags\": [], \"doc\": null, \"id\": \"cce4aaa4-b939-4c96-ae9d-10f4c60b1309\"}, \"type\": \"PreviewSaveTool\", \"id\": \"cce4aaa4-b939-4c96-ae9d-10f4c60b1309\"}, {\"attributes\": {\"plot\": {\"type\": \"Plot\", \"id\": \"61257ead-d4f5-47e9-92a1-31ada6d36a38\"}, \"tags\": [], \"doc\": null, \"axis_label\": \"PC1\", \"formatter\": {\"type\": \"BasicTickFormatter\", \"id\": \"b6904408-492e-412a-8d89-f49232d5207b\"}, \"ticker\": {\"type\": \"BasicTicker\", \"id\": \"134664ff-5160-4de2-aae1-d5af8cf5b450\"}, \"id\": \"31cde569-973d-41e6-8e34-b1a651d5248d\"}, \"type\": \"LinearAxis\", \"id\": \"31cde569-973d-41e6-8e34-b1a651d5248d\"}];\n",
        "            Bokeh.load_models(all_models);\n",
        "            var model = Bokeh.Collections(modeltype).get(modelid);\n",
        "            var view = new model.default_view({model: model, el: '#ac38e073-847d-49aa-9e7a-e7dccb1431a3'});\n",
        "        });\n",
        "    </script>\n",
        "<div class=\"plotdiv\" id=\"ac38e073-847d-49aa-9e7a-e7dccb1431a3\"></div>\n",
        "\n"
       ],
       "metadata": {},
       "output_type": "display_data"
      }
     ],
     "prompt_number": 61
    },
    {
     "cell_type": "code",
     "collapsed": false,
     "input": [],
     "language": "python",
     "metadata": {},
     "outputs": []
    }
   ],
   "metadata": {}
  }
 ]
}