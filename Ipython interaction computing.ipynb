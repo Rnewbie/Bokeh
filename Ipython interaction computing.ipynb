{
 "metadata": {
  "name": "",
  "signature": "sha256:c737b650431b6aeb6f1b715f41a35610aa12de861a88a5a02d3f6dafadf118ec"
 },
 "nbformat": 3,
 "nbformat_minor": 0,
 "worksheets": [
  {
   "cells": [
    {
     "cell_type": "code",
     "collapsed": false,
     "input": [
      "print(\"Yay, I have Ipython notebook now\")"
     ],
     "language": "python",
     "metadata": {},
     "outputs": [
      {
       "output_type": "stream",
       "stream": "stdout",
       "text": [
        "Yay, I have Ipython notebook now\n"
       ]
      }
     ],
     "prompt_number": 1
    },
    {
     "cell_type": "code",
     "collapsed": false,
     "input": [],
     "language": "python",
     "metadata": {},
     "outputs": [],
     "prompt_number": 1
    },
    {
     "cell_type": "code",
     "collapsed": false,
     "input": [
      "%lsmagic"
     ],
     "language": "python",
     "metadata": {},
     "outputs": [
      {
       "json": [
        "{\"cell\": {\"prun\": \"ExecutionMagics\", \"file\": \"Other\", \"!\": \"OSMagics\", \"capture\": \"ExecutionMagics\", \"timeit\": \"ExecutionMagics\", \"script\": \"ScriptMagics\", \"pypy\": \"Other\", \"system\": \"OSMagics\", \"perl\": \"Other\", \"HTML\": \"Other\", \"bash\": \"Other\", \"python\": \"Other\", \"SVG\": \"Other\", \"javascript\": \"DisplayMagics\", \"writefile\": \"OSMagics\", \"ruby\": \"Other\", \"python3\": \"Other\", \"python2\": \"Other\", \"latex\": \"DisplayMagics\", \"sx\": \"OSMagics\", \"svg\": \"DisplayMagics\", \"html\": \"DisplayMagics\", \"sh\": \"Other\", \"time\": \"ExecutionMagics\", \"debug\": \"ExecutionMagics\"}, \"line\": {\"psource\": \"NamespaceMagics\", \"logstart\": \"LoggingMagics\", \"popd\": \"OSMagics\", \"loadpy\": \"CodeMagics\", \"install_ext\": \"ExtensionMagics\", \"colors\": \"BasicMagics\", \"who_ls\": \"NamespaceMagics\", \"lf\": \"Other\", \"install_profiles\": \"DeprecatedMagics\", \"ll\": \"Other\", \"pprint\": \"BasicMagics\", \"lk\": \"Other\", \"ls\": \"Other\", \"save\": \"CodeMagics\", \"tb\": \"ExecutionMagics\", \"lx\": \"Other\", \"pylab\": \"PylabMagics\", \"killbgscripts\": \"ScriptMagics\", \"quickref\": \"BasicMagics\", \"magic\": \"BasicMagics\", \"dhist\": \"OSMagics\", \"edit\": \"KernelMagics\", \"logstop\": \"LoggingMagics\", \"gui\": \"BasicMagics\", \"alias_magic\": \"BasicMagics\", \"debug\": \"ExecutionMagics\", \"page\": \"BasicMagics\", \"logstate\": \"LoggingMagics\", \"ed\": \"Other\", \"pushd\": \"OSMagics\", \"timeit\": \"ExecutionMagics\", \"rehashx\": \"OSMagics\", \"hist\": \"Other\", \"qtconsole\": \"KernelMagics\", \"rm\": \"Other\", \"dirs\": \"OSMagics\", \"run\": \"ExecutionMagics\", \"reset_selective\": \"NamespaceMagics\", \"rep\": \"Other\", \"pinfo2\": \"NamespaceMagics\", \"matplotlib\": \"PylabMagics\", \"unload_ext\": \"ExtensionMagics\", \"doctest_mode\": \"KernelMagics\", \"logoff\": \"LoggingMagics\", \"reload_ext\": \"ExtensionMagics\", \"pdb\": \"ExecutionMagics\", \"load\": \"CodeMagics\", \"lsmagic\": \"BasicMagics\", \"autosave\": \"KernelMagics\", \"cd\": \"OSMagics\", \"pastebin\": \"CodeMagics\", \"prun\": \"ExecutionMagics\", \"cp\": \"Other\", \"autocall\": \"AutoMagics\", \"bookmark\": \"OSMagics\", \"connect_info\": \"KernelMagics\", \"mkdir\": \"Other\", \"system\": \"OSMagics\", \"whos\": \"NamespaceMagics\", \"rmdir\": \"Other\", \"automagic\": \"AutoMagics\", \"store\": \"StoreMagics\", \"more\": \"KernelMagics\", \"pdef\": \"NamespaceMagics\", \"precision\": \"BasicMagics\", \"pinfo\": \"NamespaceMagics\", \"pwd\": \"OSMagics\", \"psearch\": \"NamespaceMagics\", \"reset\": \"NamespaceMagics\", \"recall\": \"HistoryMagics\", \"xdel\": \"NamespaceMagics\", \"xmode\": \"BasicMagics\", \"cat\": \"Other\", \"mv\": \"Other\", \"rerun\": \"HistoryMagics\", \"logon\": \"LoggingMagics\", \"history\": \"HistoryMagics\", \"pycat\": \"OSMagics\", \"unalias\": \"OSMagics\", \"install_default_config\": \"DeprecatedMagics\", \"env\": \"OSMagics\", \"load_ext\": \"ExtensionMagics\", \"config\": \"ConfigMagics\", \"profile\": \"BasicMagics\", \"pfile\": \"NamespaceMagics\", \"less\": \"KernelMagics\", \"who\": \"NamespaceMagics\", \"notebook\": \"BasicMagics\", \"man\": \"KernelMagics\", \"sx\": \"OSMagics\", \"macro\": \"ExecutionMagics\", \"clear\": \"KernelMagics\", \"alias\": \"OSMagics\", \"time\": \"ExecutionMagics\", \"sc\": \"OSMagics\", \"ldir\": \"Other\", \"pdoc\": \"NamespaceMagics\"}}"
       ],
       "metadata": {},
       "output_type": "pyout",
       "prompt_number": 2,
       "text": [
        "Available line magics:\n",
        "%alias  %alias_magic  %autocall  %automagic  %autosave  %bookmark  %cat  %cd  %clear  %colors  %config  %connect_info  %cp  %debug  %dhist  %dirs  %doctest_mode  %ed  %edit  %env  %gui  %hist  %history  %install_default_config  %install_ext  %install_profiles  %killbgscripts  %ldir  %less  %lf  %lk  %ll  %load  %load_ext  %loadpy  %logoff  %logon  %logstart  %logstate  %logstop  %ls  %lsmagic  %lx  %macro  %magic  %man  %matplotlib  %mkdir  %more  %mv  %notebook  %page  %pastebin  %pdb  %pdef  %pdoc  %pfile  %pinfo  %pinfo2  %popd  %pprint  %precision  %profile  %prun  %psearch  %psource  %pushd  %pwd  %pycat  %pylab  %qtconsole  %quickref  %recall  %rehashx  %reload_ext  %rep  %rerun  %reset  %reset_selective  %rm  %rmdir  %run  %save  %sc  %store  %sx  %system  %tb  %time  %timeit  %unalias  %unload_ext  %who  %who_ls  %whos  %xdel  %xmode\n",
        "\n",
        "Available cell magics:\n",
        "%%!  %%HTML  %%SVG  %%bash  %%capture  %%debug  %%file  %%html  %%javascript  %%latex  %%perl  %%prun  %%pypy  %%python  %%python2  %%python3  %%ruby  %%script  %%sh  %%svg  %%sx  %%system  %%time  %%timeit  %%writefile\n",
        "\n",
        "Automagic is ON, % prefix IS NOT needed for line magics."
       ]
      }
     ],
     "prompt_number": 2
    },
    {
     "cell_type": "code",
     "collapsed": false,
     "input": [
      "%%writefile test.txt\n",
      "Hello world!"
     ],
     "language": "python",
     "metadata": {},
     "outputs": [
      {
       "output_type": "stream",
       "stream": "stdout",
       "text": [
        "Writing test.txt\n"
       ]
      }
     ],
     "prompt_number": 3
    },
    {
     "cell_type": "code",
     "collapsed": false,
     "input": [
      "# Lets check what this file contains.\n",
      "with open('test.txt', 'r') as f:\n",
      "    print(f.read())"
     ],
     "language": "python",
     "metadata": {},
     "outputs": [
      {
       "output_type": "stream",
       "stream": "stdout",
       "text": [
        "Hello world!\n"
       ]
      }
     ],
     "prompt_number": 4
    },
    {
     "cell_type": "code",
     "collapsed": false,
     "input": [
      "%run?"
     ],
     "language": "python",
     "metadata": {},
     "outputs": [],
     "prompt_number": 5
    },
    {
     "cell_type": "code",
     "collapsed": false,
     "input": [
      "### New paragraph\n",
      "This is rich **text** [links] (http://ipythonorg),\n",
      "equations:\n",
      "    \n",
      "$$\\hat{f}(\\xi) = \\int_{-\\infty}^{+\\infty} f(x)\\,\n",
      "                 \\mathrm{e}^{-i \\xi x}$$\n",
      "    \n",
      "code with syntax highlighting:\n",
      "```python\n",
      "print(\"Hello world!\")\n",
      "```\n",
      "\n",
      "and images:\n",
      "![This is an image] (http://ipython.org/_static/IPy_header.png)"
     ],
     "language": "python",
     "metadata": {},
     "outputs": [
      {
       "ename": "SyntaxError",
       "evalue": "invalid syntax (<ipython-input-8-1fe5c73d8bac>, line 2)",
       "output_type": "pyerr",
       "traceback": [
        "\u001b[0;36m  File \u001b[0;32m\"<ipython-input-8-1fe5c73d8bac>\"\u001b[0;36m, line \u001b[0;32m2\u001b[0m\n\u001b[0;31m    This is rich **text** [links] (http://ipythonorg),\u001b[0m\n\u001b[0m                                       ^\u001b[0m\n\u001b[0;31mSyntaxError\u001b[0m\u001b[0;31m:\u001b[0m invalid syntax\n"
       ]
      }
     ],
     "prompt_number": 8
    },
    {
     "cell_type": "code",
     "collapsed": false,
     "input": [
      "from IPython.display import YouTubeVideo"
     ],
     "language": "python",
     "metadata": {},
     "outputs": [],
     "prompt_number": 9
    },
    {
     "cell_type": "code",
     "collapsed": false,
     "input": [
      "YouTubeVideo('sSACWjOMtq0')"
     ],
     "language": "python",
     "metadata": {},
     "outputs": [
      {
       "html": [
        "\n",
        "        <iframe\n",
        "            width=\"400\"\n",
        "            height=300\"\n",
        "            src=\"https://www.youtube.com/embed/sSACWjOMtq0\"\n",
        "            frameborder=\"0\"\n",
        "            allowfullscreen\n",
        "        ></iframe>\n",
        "        "
       ],
       "metadata": {},
       "output_type": "pyout",
       "prompt_number": 10,
       "text": [
        "<IPython.lib.display.YouTubeVideo at 0x1ea8210>"
       ]
      }
     ],
     "prompt_number": 10
    },
    {
     "cell_type": "code",
     "collapsed": false,
     "input": [
      "{\n",
      " \"metadata\": {\n",
      "  \"name\": \"\",\n",
      "  \"signature\": \"sha256:c3f342101a24ac68cabe9601a2bbb8aeef7b74cb131e034c81fab044dfb91c38\"\n",
      " },\n",
      " \"nbformat\": 3,\n",
      " \"nbformat_minor\": 0,\n",
      " \"worksheets\": [\n",
      "  {\n",
      "   \"cells\": [\n",
      "    {\n",
      "     \"cell_type\": \"markdown\",\n",
      "     \"metadata\": [],\n",
      "     \"source\": [\n",
      "      \"> This is one of the 100 recipes of the [IPython Cookbook](http://ipython-books.github.io/), the definitive guide to high-performance scientific computing and data science in Python.\\n\"\n",
      "     ]\n",
      "    },\n",
      "    {\n",
      "     \"cell_type\": \"markdown\",\n",
      "     \"metadata\": {},\n",
      "     \"source\": [\n",
      "      \"# 1.4. Creating an IPython extension with custom magic commands\"\n",
      "     ]\n",
      "    },\n",
      "    {\n",
      "     \"cell_type\": \"markdown\",\n",
      "     \"metadata\": {},\n",
      "     \"source\": [\n",
      "      \"1. Let's import a few functions from the IPython magic system.\"\n",
      "     ]\n",
      "    },\n",
      "    {\n",
      "     \"cell_type\": \"code\",\n",
      "     \"collapsed\": false,\n",
      "     \"input\": [\n",
      "      \"from IPython.core.magic import (register_line_magic, \\n\",\n",
      "      \"                                register_cell_magic)\"\n",
      "     ],\n",
      "     \"language\": \"python\",\n",
      "     \"metadata\": {},\n",
      "     \"outputs\": []\n",
      "    },\n",
      "    {\n",
      "     \"cell_type\": \"markdown\",\n",
      "     \"metadata\": {},\n",
      "     \"source\": [\n",
      "      \"2. Defining a new line magic is particularly simple. First, let's create a function that accepts the contents of the line (except the initial `%`-prefixed magic command). The name of this function is the name of the magic. Then, let's decorate this function with `@register_line_magic`. We're done!\"\n",
      "     ]\n",
      "    },\n",
      "    {\n",
      "     \"cell_type\": \"code\",\n",
      "     \"collapsed\": false,\n",
      "     \"input\": [\n",
      "      \"@register_line_magic\\n\",\n",
      "      \"def hello(line):\\n\",\n",
      "      \"    if line == 'french':\\n\",\n",
      "      \"        print(\\\"Salut tout le monde!\\\")\\n\",\n",
      "      \"    else:\\n\",\n",
      "      \"        print(\\\"Hello world!\\\")\"\n",
      "     ],\n",
      "     \"language\": \"python\",\n",
      "     \"metadata\": {},\n",
      "     \"outputs\": []\n",
      "    },\n",
      "    {\n",
      "     \"cell_type\": \"code\",\n",
      "     \"collapsed\": false,\n",
      "     \"input\": [\n",
      "      \"%hello\"\n",
      "     ],\n",
      "     \"language\": \"python\",\n",
      "     \"metadata\": {},\n",
      "     \"outputs\": []\n",
      "    },\n",
      "    {\n",
      "     \"cell_type\": \"code\",\n",
      "     \"collapsed\": false,\n",
      "     \"input\": [\n",
      "      \"%hello french\"\n",
      "     ],\n",
      "     \"language\": \"python\",\n",
      "     \"metadata\": {},\n",
      "     \"outputs\": []\n",
      "    },\n",
      "    {\n",
      "     \"cell_type\": \"markdown\",\n",
      "     \"metadata\": {},\n",
      "     \"source\": [\n",
      "      \"3. Let's create a slightly more useful cell magic `%%csv` that parses a CSV string and returns a Pandas DataFrame object. This time, the function takes as argument the first line (what follows `%%csv`), and the contents of the cell (everything in the cell except the first line).\"\n",
      "     ]\n",
      "    },\n",
      "    {\n",
      "     \"cell_type\": \"code\",\n",
      "     \"collapsed\": false,\n",
      "     \"input\": [\n",
      "      \"import pandas as pd\\n\",\n",
      "      \"#from StringIO import StringIO  # Python 2\\n\",\n",
      "      \"from io import StringIO  # Python 3\\n\",\n",
      "      \"\\n\",\n",
      "      \"@register_cell_magic\\n\",\n",
      "      \"def csv(line, cell):\\n\",\n",
      "      \"    # We create a string buffer containing the\\n\",\n",
      "      \"    # contents of the cell.\\n\",\n",
      "      \"    sio = StringIO(cell)\\n\",\n",
      "      \"    # We use Pandas' read_csv function to parse\\n\",\n",
      "      \"    # the CSV string.\\n\",\n",
      "      \"    return pd.read_csv(sio)\"\n",
      "     ],\n",
      "     \"language\": \"python\",\n",
      "     \"metadata\": {},\n",
      "     \"outputs\": []\n",
      "    },\n",
      "    {\n",
      "     \"cell_type\": \"code\",\n",
      "     \"collapsed\": false,\n",
      "     \"input\": [\n",
      "      \"%%csv\\n\",\n",
      "      \"col1,col2,col3\\n\",\n",
      "      \"0,1,2\\n\",\n",
      "      \"3,4,5\\n\",\n",
      "      \"7,8,9\"\n",
      "     ],\n",
      "     \"language\": \"python\",\n",
      "     \"metadata\": {},\n",
      "     \"outputs\": []\n",
      "    },\n",
      "    {\n",
      "     \"cell_type\": \"markdown\",\n",
      "     \"metadata\": {},\n",
      "     \"source\": [\n",
      "      \"We can access the returned object with `_`.\"\n",
      "     ]\n",
      "    },\n",
      "    {\n",
      "     \"cell_type\": \"code\",\n",
      "     \"collapsed\": false,\n",
      "     \"input\": [\n",
      "      \"df = _\\n\",\n",
      "      \"df.describe()\"\n",
      "     ],\n",
      "     \"language\": \"python\",\n",
      "     \"metadata\": {},\n",
      "     \"outputs\": []\n",
      "    },\n",
      "    {\n",
      "     \"cell_type\": \"markdown\",\n",
      "     \"metadata\": {},\n",
      "     \"source\": [\n",
      "      \"4. The method we described is useful in an interactive session. If you want to use the same magic in multiple notebooks, or if you want to distribute it, you need to create an **IPython extension** that implements your custom magic command. Let's show how to do that. The first step is to create a Python script (`csvmagic.py` here) that implements the magic.\"\n",
      "     ]\n",
      "    },\n",
      "    {\n",
      "     \"cell_type\": \"code\",\n",
      "     \"collapsed\": false,\n",
      "     \"input\": [\n",
      "      \"%%writefile csvmagic.py\\n\",\n",
      "      \"import pandas as pd\\n\",\n",
      "      \"#from StringIO import StringIO  # Python 2\\n\",\n",
      "      \"from io import StringIO  # Python 3\\n\",\n",
      "      \"\\n\",\n",
      "      \"def csv(line, cell):\\n\",\n",
      "      \"    sio = StringIO(cell)\\n\",\n",
      "      \"    return pd.read_csv(sio)\\n\",\n",
      "      \"\\n\",\n",
      "      \"def load_ipython_extension(ipython):\\n\",\n",
      "      \"    \\\"\\\"\\\"This function is called when the extension is loaded.\\n\",\n",
      "      \"    It accepts an IPython InteractiveShell instance.\\n\",\n",
      "      \"    We can register the magic with the `register_magic_function`\\n\",\n",
      "      \"    method of the shell instance.\\\"\\\"\\\"\\n\",\n",
      "      \"    ipython.register_magic_function(csv, 'cell')\"\n",
      "     ],\n",
      "     \"language\": \"python\",\n",
      "     \"metadata\": {},\n",
      "     \"outputs\": []\n",
      "    },\n",
      "    {\n",
      "     \"cell_type\": \"markdown\",\n",
      "     \"metadata\": {},\n",
      "     \"source\": [\n",
      "      \"5. Once the extension is created, we need to import it in the IPython session. The `%load_ext` magic command takes the name of a Python module and imports it, calling immediately `load_ipython_extension`. Here, loading this extension automatically registers our magic function `%%csv`. The Python module needs to be importable. Here, it is in the current directory. In other situations, it has to be in the Python path. It can also be stored in `~\\\\.ipython\\\\extensions` which is automatically put in the Python path.\"\n",
      "     ]\n",
      "    },\n",
      "    {\n",
      "     \"cell_type\": \"code\",\n",
      "     \"collapsed\": false,\n",
      "     \"input\": [\n",
      "      \"%load_ext csvmagic\"\n",
      "     ],\n",
      "     \"language\": \"python\",\n",
      "     \"metadata\": {},\n",
      "     \"outputs\": []\n",
      "    },\n",
      "    {\n",
      "     \"cell_type\": \"code\",\n",
      "     \"collapsed\": false,\n",
      "     \"input\": [\n",
      "      \"%%csv\\n\",\n",
      "      \"col1,col2,col3\\n\",\n",
      "      \"0,1,2\\n\",\n",
      "      \"3,4,5\\n\",\n",
      "      \"7,8,9\"\n",
      "     ],\n",
      "     \"language\": \"python\",\n",
      "     \"metadata\": {},\n",
      "     \"outputs\": []\n",
      "    },\n",
      "    {\n",
      "     \"cell_type\": \"markdown\",\n",
      "     \"metadata\": {},\n",
      "     \"source\": [\n",
      "      \"Finally, to ensure that this magic is automatically defined in our IPython profile, we can instruct IPython to load this extension at startup. To do this, let's open the file `~/.ipython/profile_default/ipython_config.py` and let's put `'csvmagic'` in the `c.InteractiveShellApp.extensions` list. The `csvmagic` module needs to be importable. It is common to create a *Python package* implementing an IPython extension, which itself defines custom magic commands.\"\n",
      "     ]\n",
      "    },\n",
      "    {\n",
      "     \"cell_type\": \"markdown\",\n",
      "     \"metadata\": {},\n",
      "     \"source\": [\n",
      "      \"> You'll find all the explanations, figures, references, and much more in the book (to be released later this summer).\\n\",\n",
      "      \"\\n\",\n",
      "      \"> [IPython Cookbook](http://ipython-books.github.io/), by [Cyrille Rossant](http://cyrille.rossant.net), Packt Publishing, 2014 (400 pages). [Get a 50% discount by pre-ordering now](http://www.packtpub.com/ipython-interactive-computing-and-visualization-cookbook/book) with the code `PICVCEB` (time-limited offer)!\\n\"\n",
      "     ]\n",
      "    }\n",
      "   ],\n",
      "   \"metadata\": {}\n",
      "  }\n",
      " ]\n",
      "}"
     ],
     "language": "python",
     "metadata": {},
     "outputs": [
      {
       "ename": "NameError",
       "evalue": "name 'false' is not defined",
       "output_type": "pyerr",
       "traceback": [
        "\u001b[0;31m---------------------------------------------------------------------------\u001b[0m\n\u001b[0;31mNameError\u001b[0m                                 Traceback (most recent call last)",
        "\u001b[0;32m<ipython-input-11-e4e15d3419cd>\u001b[0m in \u001b[0;36m<module>\u001b[0;34m()\u001b[0m\n\u001b[1;32m     32\u001b[0m     {\n\u001b[1;32m     33\u001b[0m      \u001b[0;34m\"cell_type\"\u001b[0m\u001b[0;34m:\u001b[0m \u001b[0;34m\"code\"\u001b[0m\u001b[0;34m,\u001b[0m\u001b[0;34m\u001b[0m\u001b[0m\n\u001b[0;32m---> 34\u001b[0;31m      \u001b[0;34m\"collapsed\"\u001b[0m\u001b[0;34m:\u001b[0m \u001b[0mfalse\u001b[0m\u001b[0;34m,\u001b[0m\u001b[0;34m\u001b[0m\u001b[0m\n\u001b[0m\u001b[1;32m     35\u001b[0m      \"input\": [\n\u001b[1;32m     36\u001b[0m       \u001b[0;34m\"from IPython.core.magic import (register_line_magic, \\n\"\u001b[0m\u001b[0;34m,\u001b[0m\u001b[0;34m\u001b[0m\u001b[0m\n",
        "\u001b[0;31mNameError\u001b[0m: name 'false' is not defined"
       ]
      }
     ],
     "prompt_number": 11
    },
    {
     "cell_type": "code",
     "collapsed": false,
     "input": [
      "from collections import OrderedDict\n",
      "from IPython.display import (display,\n",
      "                             clear_output,\n",
      "                             YouTubeVideo)\n",
      "from Ipython.html.widgets import DropdownWidget"
     ],
     "language": "python",
     "metadata": {},
     "outputs": [
      {
       "ename": "ImportError",
       "evalue": "No module named Ipython.html.widgets",
       "output_type": "pyerr",
       "traceback": [
        "\u001b[0;31m---------------------------------------------------------------------------\u001b[0m\n\u001b[0;31mImportError\u001b[0m                               Traceback (most recent call last)",
        "\u001b[0;32m<ipython-input-12-7ee4d367398c>\u001b[0m in \u001b[0;36m<module>\u001b[0;34m()\u001b[0m\n\u001b[1;32m      3\u001b[0m                              \u001b[0mclear_output\u001b[0m\u001b[0;34m,\u001b[0m\u001b[0;34m\u001b[0m\u001b[0m\n\u001b[1;32m      4\u001b[0m                              YouTubeVideo)\n\u001b[0;32m----> 5\u001b[0;31m \u001b[0;32mfrom\u001b[0m \u001b[0mIpython\u001b[0m\u001b[0;34m.\u001b[0m\u001b[0mhtml\u001b[0m\u001b[0;34m.\u001b[0m\u001b[0mwidgets\u001b[0m \u001b[0;32mimport\u001b[0m \u001b[0mDropdownWidget\u001b[0m\u001b[0;34m\u001b[0m\u001b[0m\n\u001b[0m",
        "\u001b[0;31mImportError\u001b[0m: No module named Ipython.html.widgets"
       ]
      }
     ],
     "prompt_number": 12
    },
    {
     "cell_type": "code",
     "collapsed": false,
     "input": [
      "import numpy as np\n",
      "import pandas as pd\n",
      "import matplotlib.pyplot as plt\n",
      "%matplotlib inline"
     ],
     "language": "python",
     "metadata": {},
     "outputs": [],
     "prompt_number": 13
    },
    {
     "cell_type": "code",
     "collapsed": false,
     "input": [
      "url = url = \"http://donnees.ville.montreal.qc.ca/storage/f/2014-01-20T20%3A48%3A50.296Z/2013.csv\""
     ],
     "language": "python",
     "metadata": {},
     "outputs": [],
     "prompt_number": 14
    },
    {
     "cell_type": "code",
     "collapsed": false,
     "input": [
      "df = pd.read_csv(url, index_col='Date', parse_dates=True, dayfirst=True)"
     ],
     "language": "python",
     "metadata": {},
     "outputs": [],
     "prompt_number": 15
    },
    {
     "cell_type": "code",
     "collapsed": false,
     "input": [
      "df.head(2)"
     ],
     "language": "python",
     "metadata": {},
     "outputs": [
      {
       "html": [
        "<pre>\n",
        "&ltclass 'pandas.core.frame.DataFrame'&gt\n",
        "DatetimeIndex: 2 entries, 2013-01-01 00:00:00 to 2013-01-02 00:00:00\n",
        "Data columns (total 9 columns):\n",
        "Unnamed: 1       2  non-null values\n",
        "Berri1           2  non-null values\n",
        "CSC              2  non-null values\n",
        "Mais1            2  non-null values\n",
        "Mais2            2  non-null values\n",
        "Parc             2  non-null values\n",
        "PierDup          2  non-null values\n",
        "Rachel1          2  non-null values\n",
        "Totem_Laurier    2  non-null values\n",
        "dtypes: int64(8), object(1)\n",
        "</pre>"
       ],
       "metadata": {},
       "output_type": "pyout",
       "prompt_number": 16,
       "text": [
        "           Unnamed: 1  Berri1  CSC  Mais1  Mais2  Parc  PierDup  Rachel1  \\\n",
        "Date                                                                       \n",
        "2013-01-01      00:00       0    0      1      0     6        0        1   \n",
        "2013-01-02      00:00      69    0     13      0    18        0        2   \n",
        "\n",
        "            Totem_Laurier  \n",
        "Date                       \n",
        "2013-01-01              0  \n",
        "2013-01-02              0  "
       ]
      }
     ],
     "prompt_number": 16
    },
    {
     "cell_type": "code",
     "collapsed": false,
     "input": [
      "df.describe()"
     ],
     "language": "python",
     "metadata": {},
     "outputs": [
      {
       "html": [
        "<pre>\n",
        "&ltclass 'pandas.core.frame.DataFrame'&gt\n",
        "Index: 8 entries, count to max\n",
        "Data columns (total 8 columns):\n",
        "Berri1           8  non-null values\n",
        "CSC              8  non-null values\n",
        "Mais1            8  non-null values\n",
        "Mais2            8  non-null values\n",
        "Parc             8  non-null values\n",
        "PierDup          8  non-null values\n",
        "Rachel1          8  non-null values\n",
        "Totem_Laurier    8  non-null values\n",
        "dtypes: float64(8)\n",
        "</pre>"
       ],
       "metadata": {},
       "output_type": "pyout",
       "prompt_number": 17,
       "text": [
        "            Berri1          CSC        Mais1        Mais2         Parc  \\\n",
        "count   261.000000   261.000000   261.000000   261.000000   261.000000   \n",
        "mean   2743.390805  1221.858238  1757.590038  3224.130268  1669.425287   \n",
        "std    2247.957848  1070.037364  1458.793882  2589.514354  1363.738862   \n",
        "min       0.000000     0.000000     1.000000     0.000000     6.000000   \n",
        "25%     392.000000    12.000000   236.000000   516.000000   222.000000   \n",
        "50%    2771.000000  1184.000000  1706.000000  3178.000000  1584.000000   \n",
        "75%    4767.000000  2168.000000  3158.000000  5812.000000  3068.000000   \n",
        "max    6803.000000  3330.000000  4716.000000  7684.000000  4103.000000   \n",
        "\n",
        "           PierDup      Rachel1  Totem_Laurier  \n",
        "count   261.000000   261.000000     261.000000  \n",
        "mean   1152.885057  3084.425287    1858.793103  \n",
        "std    1208.848429  2380.255540    1434.899574  \n",
        "min       0.000000     0.000000       0.000000  \n",
        "25%      12.000000   451.000000     340.000000  \n",
        "50%     818.000000  3111.000000    2087.000000  \n",
        "75%    2104.000000  5338.000000    3168.000000  \n",
        "max    4841.000000  8555.000000    4293.000000  "
       ]
      }
     ],
     "prompt_number": 17
    },
    {
     "cell_type": "code",
     "collapsed": false,
     "input": [
      "df[['Berri1', 'PierDup']].plot(figsize=(8,4),\n",
      "                               style=['-', '--']);\n"
     ],
     "language": "python",
     "metadata": {},
     "outputs": [
      {
       "metadata": {},
       "output_type": "display_data",
       "png": "[encoded data removed]",
       "text": [
        "<matplotlib.figure.Figure at 0x733cd10>"
       ]
      }
     ],
     "prompt_number": 18
    },
    {
     "cell_type": "code",
     "collapsed": false,
     "input": [
      "df.index.weekday"
     ],
     "language": "python",
     "metadata": {},
     "outputs": [
      {
       "metadata": {},
       "output_type": "pyout",
       "prompt_number": 19,
       "text": [
        "array([1, 2, 3, 4, 5, 6, 0, 1, 2, 3, 4, 5, 6, 0, 1, 2, 3, 4, 5, 6, 0, 1, 2,\n",
        "       3, 4, 5, 6, 0, 1, 2, 3, 4, 5, 6, 0, 1, 2, 3, 4, 5, 6, 0, 1, 2, 3, 4,\n",
        "       5, 6, 0, 1, 2, 3, 4, 5, 6, 0, 1, 2, 3, 4, 5, 6, 0, 1, 2, 3, 4, 5, 6,\n",
        "       0, 1, 2, 3, 4, 5, 6, 0, 1, 2, 3, 4, 5, 6, 0, 1, 2, 3, 4, 5, 6, 0, 1,\n",
        "       2, 3, 4, 5, 6, 0, 1, 2, 3, 4, 5, 6, 0, 1, 2, 3, 4, 5, 6, 0, 1, 2, 3,\n",
        "       4, 5, 6, 0, 1, 2, 3, 4, 5, 6, 0, 1, 2, 3, 4, 5, 6, 0, 1, 2, 3, 4, 5,\n",
        "       6, 0, 1, 2, 3, 4, 5, 6, 0, 1, 2, 3, 4, 5, 6, 0, 1, 2, 3, 4, 5, 6, 0,\n",
        "       1, 2, 3, 4, 5, 6, 0, 1, 2, 3, 4, 5, 6, 0, 1, 2, 3, 4, 5, 6, 0, 1, 2,\n",
        "       3, 4, 5, 6, 0, 1, 2, 3, 4, 5, 6, 0, 1, 2, 3, 4, 5, 6, 0, 1, 2, 3, 4,\n",
        "       5, 6, 0, 1, 2, 3, 4, 5, 6, 0, 1, 2, 3, 4, 5, 6, 0, 1, 2, 3, 4, 5, 6,\n",
        "       0, 1, 2, 3, 4, 5, 6, 0, 1, 2, 3, 4, 5, 6, 0, 1, 2, 3, 4, 5, 6, 0, 1,\n",
        "       2, 3, 4, 5, 6, 0, 1, 2])"
       ]
      }
     ],
     "prompt_number": 19
    },
    {
     "cell_type": "code",
     "collapsed": false,
     "input": [
      "days = np.array(['Monday', 'Tuesday', 'Wednesday', \n",
      "                 'Thursday', 'Friday', 'Saturday', \n",
      "                 'Sunday'])\n",
      "df['Weekday'] = days[df.index.weekday]"
     ],
     "language": "python",
     "metadata": {},
     "outputs": [],
     "prompt_number": 21
    },
    {
     "cell_type": "code",
     "collapsed": false,
     "input": [
      "df_week = df.groupby('Weekday').sum()"
     ],
     "language": "python",
     "metadata": {},
     "outputs": [],
     "prompt_number": 22
    },
    {
     "cell_type": "code",
     "collapsed": false,
     "input": [
      "df_week"
     ],
     "language": "python",
     "metadata": {},
     "outputs": [
      {
       "html": [
        "<div style=\"max-height:1000px;max-width:1500px;overflow:auto;\">\n",
        "<table border=\"1\" class=\"dataframe\">\n",
        "  <thead>\n",
        "    <tr style=\"text-align: right;\">\n",
        "      <th></th>\n",
        "      <th>Berri1</th>\n",
        "      <th>CSC</th>\n",
        "      <th>Mais1</th>\n",
        "      <th>Mais2</th>\n",
        "      <th>Parc</th>\n",
        "      <th>PierDup</th>\n",
        "      <th>Rachel1</th>\n",
        "      <th>Totem_Laurier</th>\n",
        "    </tr>\n",
        "    <tr>\n",
        "      <th>Weekday</th>\n",
        "      <th></th>\n",
        "      <th></th>\n",
        "      <th></th>\n",
        "      <th></th>\n",
        "      <th></th>\n",
        "      <th></th>\n",
        "      <th></th>\n",
        "      <th></th>\n",
        "    </tr>\n",
        "  </thead>\n",
        "  <tbody>\n",
        "    <tr>\n",
        "      <th>Friday</th>\n",
        "      <td> 105701</td>\n",
        "      <td> 44252</td>\n",
        "      <td> 71605</td>\n",
        "      <td> 127526</td>\n",
        "      <td> 64385</td>\n",
        "      <td> 36850</td>\n",
        "      <td> 118556</td>\n",
        "      <td> 71426</td>\n",
        "    </tr>\n",
        "    <tr>\n",
        "      <th>Monday</th>\n",
        "      <td> 106826</td>\n",
        "      <td> 51646</td>\n",
        "      <td> 68087</td>\n",
        "      <td> 129982</td>\n",
        "      <td> 69767</td>\n",
        "      <td> 44500</td>\n",
        "      <td> 119211</td>\n",
        "      <td> 72883</td>\n",
        "    </tr>\n",
        "    <tr>\n",
        "      <th>Saturday</th>\n",
        "      <td>  75754</td>\n",
        "      <td> 27226</td>\n",
        "      <td> 45947</td>\n",
        "      <td>  79743</td>\n",
        "      <td> 35544</td>\n",
        "      <td> 46149</td>\n",
        "      <td>  97143</td>\n",
        "      <td> 56438</td>\n",
        "    </tr>\n",
        "    <tr>\n",
        "      <th>Sunday</th>\n",
        "      <td>  74873</td>\n",
        "      <td> 29181</td>\n",
        "      <td> 40812</td>\n",
        "      <td>  75746</td>\n",
        "      <td> 37620</td>\n",
        "      <td> 53812</td>\n",
        "      <td> 100735</td>\n",
        "      <td> 53798</td>\n",
        "    </tr>\n",
        "    <tr>\n",
        "      <th>Thursday</th>\n",
        "      <td> 115193</td>\n",
        "      <td> 52340</td>\n",
        "      <td> 76273</td>\n",
        "      <td> 141424</td>\n",
        "      <td> 73668</td>\n",
        "      <td> 36349</td>\n",
        "      <td> 120684</td>\n",
        "      <td> 74540</td>\n",
        "    </tr>\n",
        "    <tr>\n",
        "      <th>Tuesday</th>\n",
        "      <td> 117244</td>\n",
        "      <td> 54656</td>\n",
        "      <td> 76974</td>\n",
        "      <td> 141217</td>\n",
        "      <td> 74299</td>\n",
        "      <td> 40679</td>\n",
        "      <td> 123533</td>\n",
        "      <td> 76559</td>\n",
        "    </tr>\n",
        "    <tr>\n",
        "      <th>Wednesday</th>\n",
        "      <td> 120434</td>\n",
        "      <td> 59604</td>\n",
        "      <td> 79033</td>\n",
        "      <td> 145860</td>\n",
        "      <td> 80437</td>\n",
        "      <td> 42564</td>\n",
        "      <td> 125173</td>\n",
        "      <td> 79501</td>\n",
        "    </tr>\n",
        "  </tbody>\n",
        "</table>\n",
        "</div>"
       ],
       "metadata": {},
       "output_type": "pyout",
       "prompt_number": 23,
       "text": [
        "           Berri1    CSC  Mais1   Mais2   Parc  PierDup  Rachel1  Totem_Laurier\n",
        "Weekday                                                                        \n",
        "Friday     105701  44252  71605  127526  64385    36850   118556          71426\n",
        "Monday     106826  51646  68087  129982  69767    44500   119211          72883\n",
        "Saturday    75754  27226  45947   79743  35544    46149    97143          56438\n",
        "Sunday      74873  29181  40812   75746  37620    53812   100735          53798\n",
        "Thursday   115193  52340  76273  141424  73668    36349   120684          74540\n",
        "Tuesday    117244  54656  76974  141217  74299    40679   123533          76559\n",
        "Wednesday  120434  59604  79033  145860  80437    42564   125173          79501"
       ]
      }
     ],
     "prompt_number": 23
    },
    {
     "cell_type": "code",
     "collapsed": false,
     "input": [
      "df_week.ix[days].plot(lw=3, figsize=(6,4));\n",
      "plt.ylim(0);  # Set the bottom axis to 0."
     ],
     "language": "python",
     "metadata": {},
     "outputs": [
      {
       "metadata": {},
       "output_type": "pyout",
       "prompt_number": 24,
       "text": [
        "(0, 160000.0)"
       ]
      },
      {
       "metadata": {},
       "output_type": "display_data",
       "png": "[encoded data removed]",
       "text": [
        "<matplotlib.figure.Figure at 0x72c1470>"
       ]
      }
     ],
     "prompt_number": 24
    },
    {
     "cell_type": "code",
     "collapsed": false,
     "input": [
      "from IPython.html.widgets import interact\n",
      "@interact\n",
      "def plot(n=(1, 30)):\n",
      "    plt.figure(figsize=(8,4));\n",
      "    pd.rolling_mean(df['Berri1'], n).dropna().plot();\n",
      "    plt.ylim(0, 8000);\n",
      "    plt.show();"
     ],
     "language": "python",
     "metadata": {},
     "outputs": [
      {
       "metadata": {},
       "output_type": "display_data",
       "png": "[encoded data removed]",
       "text": [
        "<matplotlib.figure.Figure at 0x72c1230>"
       ]
      }
     ],
     "prompt_number": 25
    },
    {
     "cell_type": "code",
     "collapsed": false,
     "input": [
      "import random\n",
      "import numpy as np"
     ],
     "language": "python",
     "metadata": {},
     "outputs": [],
     "prompt_number": 26
    },
    {
     "cell_type": "code",
     "collapsed": false,
     "input": [
      "%precision 3"
     ],
     "language": "python",
     "metadata": {},
     "outputs": [
      {
       "metadata": {},
       "output_type": "pyout",
       "prompt_number": 27,
       "text": [
        "u'%.3f'"
       ]
      }
     ],
     "prompt_number": 27
    },
    {
     "cell_type": "code",
     "collapsed": false,
     "input": [
      "n = 1000000\n",
      "x = [random.random() for _ in range(n)]\n",
      "y = [random.random() for _ in range(n)]"
     ],
     "language": "python",
     "metadata": {},
     "outputs": [],
     "prompt_number": 28
    },
    {
     "cell_type": "code",
     "collapsed": false,
     "input": [
      "x[:3], y[:3]"
     ],
     "language": "python",
     "metadata": {},
     "outputs": [
      {
       "metadata": {},
       "output_type": "pyout",
       "prompt_number": 29,
       "text": [
        "([0.189, 0.281, 0.911], [0.618, 0.546, 0.745])"
       ]
      }
     ],
     "prompt_number": 29
    },
    {
     "cell_type": "code",
     "collapsed": false,
     "input": [
      "z = [x[i] + y[i] for i in range(n)]\n",
      "z[:3]"
     ],
     "language": "python",
     "metadata": {},
     "outputs": [
      {
       "metadata": {},
       "output_type": "pyout",
       "prompt_number": 30,
       "text": [
        "[0.807, 0.827, 1.656]"
       ]
      }
     ],
     "prompt_number": 30
    },
    {
     "cell_type": "code",
     "collapsed": false,
     "input": [
      "%timeit [x[i] + y[i] for i in range(n)]"
     ],
     "language": "python",
     "metadata": {},
     "outputs": [
      {
       "output_type": "stream",
       "stream": "stdout",
       "text": [
        "1 loops, best of 3: 622 ms per loop\n"
       ]
      }
     ],
     "prompt_number": 31
    },
    {
     "cell_type": "code",
     "collapsed": false,
     "input": [
      "xa = np.array(x)\n",
      "ya = np.array(y)"
     ],
     "language": "python",
     "metadata": {},
     "outputs": [],
     "prompt_number": 32
    },
    {
     "cell_type": "code",
     "collapsed": false,
     "input": [
      "xa[:3]"
     ],
     "language": "python",
     "metadata": {},
     "outputs": [
      {
       "metadata": {},
       "output_type": "pyout",
       "prompt_number": 33,
       "text": [
        "array([ 0.189,  0.281,  0.911])"
       ]
      }
     ],
     "prompt_number": 33
    },
    {
     "cell_type": "code",
     "collapsed": false,
     "input": [
      "za = xa + ya\n",
      "za[:3]"
     ],
     "language": "python",
     "metadata": {},
     "outputs": [
      {
       "metadata": {},
       "output_type": "pyout",
       "prompt_number": 34,
       "text": [
        "array([ 0.807,  0.827,  1.656])"
       ]
      }
     ],
     "prompt_number": 34
    },
    {
     "cell_type": "code",
     "collapsed": false,
     "input": [
      "%timeit xa + ya"
     ],
     "language": "python",
     "metadata": {},
     "outputs": [
      {
       "output_type": "stream",
       "stream": "stdout",
       "text": [
        "100 loops, best of 3: 16.6 ms per loop\n"
       ]
      }
     ],
     "prompt_number": 35
    },
    {
     "cell_type": "code",
     "collapsed": false,
     "input": [
      "%timeit sum(x)  # pure Python\n",
      "%timeit np.sum(xa)  # NumPy"
     ],
     "language": "python",
     "metadata": {},
     "outputs": [
      {
       "output_type": "stream",
       "stream": "stdout",
       "text": [
        "10 loops, best of 3: 30.8 ms per loop\n",
        "100 loops, best of 3: 2.68 ms per loop"
       ]
      },
      {
       "output_type": "stream",
       "stream": "stdout",
       "text": [
        "\n"
       ]
      }
     ],
     "prompt_number": 36
    },
    {
     "cell_type": "code",
     "collapsed": false,
     "input": [
      "d = [abs(x[i] - y[j]) \n",
      "     for i in range(1000) for j in range(1000)]"
     ],
     "language": "python",
     "metadata": {},
     "outputs": [],
     "prompt_number": 37
    },
    {
     "cell_type": "code",
     "collapsed": false,
     "input": [
      "d[:3]"
     ],
     "language": "python",
     "metadata": {},
     "outputs": [
      {
       "metadata": {},
       "output_type": "pyout",
       "prompt_number": 38,
       "text": [
        "[0.429, 0.357, 0.556]"
       ]
      }
     ],
     "prompt_number": 38
    },
    {
     "cell_type": "code",
     "collapsed": false,
     "input": [
      "da = np.abs(xa[:1000,None] - ya[:1000])"
     ],
     "language": "python",
     "metadata": {},
     "outputs": [],
     "prompt_number": 39
    },
    {
     "cell_type": "code",
     "collapsed": false,
     "input": [
      "da"
     ],
     "language": "python",
     "metadata": {},
     "outputs": [
      {
       "metadata": {},
       "output_type": "pyout",
       "prompt_number": 40,
       "text": [
        "array([[ 0.429,  0.357,  0.556, ...,  0.707,  0.765,  0.094],\n",
        "       [ 0.337,  0.265,  0.464, ...,  0.615,  0.673,  0.186],\n",
        "       [ 0.293,  0.365,  0.165, ...,  0.014,  0.043,  0.816],\n",
        "       ..., \n",
        "       [ 0.358,  0.286,  0.485, ...,  0.637,  0.694,  0.165],\n",
        "       [ 0.373,  0.301,  0.5  , ...,  0.652,  0.709,  0.15 ],\n",
        "       [ 0.08 ,  0.008,  0.207, ...,  0.358,  0.416,  0.443]])"
       ]
      }
     ],
     "prompt_number": 40
    },
    {
     "cell_type": "code",
     "collapsed": false,
     "input": [
      "%timeit [abs(x[i] - y[j]) for i in range(1000) for j in range(1000)]\n",
      "%timeit np.abs(xa[:1000, None] - ya[:1000])"
     ],
     "language": "python",
     "metadata": {},
     "outputs": [
      {
       "output_type": "stream",
       "stream": "stdout",
       "text": [
        "1 loops, best of 3: 720 ms per loop\n",
        "10 loops, best of 3: 32.4 ms per loop"
       ]
      },
      {
       "output_type": "stream",
       "stream": "stdout",
       "text": [
        "\n"
       ]
      }
     ],
     "prompt_number": 41
    },
    {
     "cell_type": "code",
     "collapsed": false,
     "input": [
      "import random\n",
      "import numpy as np"
     ],
     "language": "python",
     "metadata": {},
     "outputs": [],
     "prompt_number": 1
    },
    {
     "cell_type": "code",
     "collapsed": false,
     "input": [
      "%precision 3"
     ],
     "language": "python",
     "metadata": {},
     "outputs": [
      {
       "metadata": {},
       "output_type": "pyout",
       "prompt_number": 2,
       "text": [
        "u'%.3f'"
       ]
      }
     ],
     "prompt_number": 2
    },
    {
     "cell_type": "code",
     "collapsed": false,
     "input": [
      "from IPython.core.magic import (register_line_magic, \n",
      "                                register_cell_magic)"
     ],
     "language": "python",
     "metadata": {},
     "outputs": [],
     "prompt_number": 3
    },
    {
     "cell_type": "code",
     "collapsed": false,
     "input": [
      "@register_line_magic\n",
      "def hello(line):\n",
      "    if line == 'Thai':\n",
      "        print(\"Sa Wa Dee!\")\n",
      "    else:\n",
      "        print(\"Happy New Year!\")"
     ],
     "language": "python",
     "metadata": {},
     "outputs": [],
     "prompt_number": 4
    },
    {
     "cell_type": "code",
     "collapsed": false,
     "input": [
      "%hello"
     ],
     "language": "python",
     "metadata": {},
     "outputs": [
      {
       "output_type": "stream",
       "stream": "stdout",
       "text": [
        "Happy New Year!\n"
       ]
      }
     ],
     "prompt_number": 5
    },
    {
     "cell_type": "code",
     "collapsed": false,
     "input": [
      "%hello Thai"
     ],
     "language": "python",
     "metadata": {},
     "outputs": [
      {
       "output_type": "stream",
       "stream": "stdout",
       "text": [
        "Sa Wa Dee!\n"
       ]
      }
     ],
     "prompt_number": 7
    },
    {
     "cell_type": "code",
     "collapsed": false,
     "input": [
      "import pandas as pd\n",
      "from io import StringIO  # Python 3\n",
      "\n",
      "@register_cell_magic\n",
      "def csv(line, cell):\n",
      "    # We create a string buffer containing the\n",
      "    # contents of the cell.\n",
      "    sio = StringIO(cell)\n",
      "    # We use Pandas' read_csv function to parse\n",
      "    # the CSV string.\n",
      "    return pd.read_csv(sio)"
     ],
     "language": "python",
     "metadata": {},
     "outputs": [],
     "prompt_number": 11
    },
    {
     "cell_type": "code",
     "collapsed": false,
     "input": [
      "%%csv\n",
      "col1,col2,col3\n",
      "0,1,2\n",
      "3,4,5\n",
      "7,8,9"
     ],
     "language": "python",
     "metadata": {},
     "outputs": [
      {
       "html": [
        "<div style=\"max-height:1000px;max-width:1500px;overflow:auto;\">\n",
        "<table border=\"1\" class=\"dataframe\">\n",
        "  <thead>\n",
        "    <tr style=\"text-align: right;\">\n",
        "      <th></th>\n",
        "      <th>col1</th>\n",
        "      <th>col2</th>\n",
        "      <th>col3</th>\n",
        "    </tr>\n",
        "  </thead>\n",
        "  <tbody>\n",
        "    <tr>\n",
        "      <th>0</th>\n",
        "      <td> 0</td>\n",
        "      <td> 1</td>\n",
        "      <td> 2</td>\n",
        "    </tr>\n",
        "    <tr>\n",
        "      <th>1</th>\n",
        "      <td> 3</td>\n",
        "      <td> 4</td>\n",
        "      <td> 5</td>\n",
        "    </tr>\n",
        "    <tr>\n",
        "      <th>2</th>\n",
        "      <td> 7</td>\n",
        "      <td> 8</td>\n",
        "      <td> 9</td>\n",
        "    </tr>\n",
        "  </tbody>\n",
        "</table>\n",
        "</div>"
       ],
       "metadata": {},
       "output_type": "pyout",
       "prompt_number": 13,
       "text": [
        "   col1  col2  col3\n",
        "0     0     1     2\n",
        "1     3     4     5\n",
        "2     7     8     9"
       ]
      }
     ],
     "prompt_number": 13
    },
    {
     "cell_type": "heading",
     "level": 2,
     "metadata": {},
     "source": [
      "%%writefile csvmagic.py\n",
      "from io import StringIO\n",
      "\n",
      "def csv(line, cell):\n",
      "    sio = StringIO(cell)\n",
      "    return pd.read_csv(sio)\n",
      "\n",
      "def load_ipython_extension(ipython):\n",
      "    \"\"\"This function is called when the extension is loaded.\n",
      "    It accepts an IPython InteractiveShell instance.\n",
      "    We can register the magic with the `register_magic_function`\n",
      "    method of the shell instance.\"\"\"\n",
      "    ipython.register_magic_function(csv, 'cell')"
     ]
    },
    {
     "cell_type": "code",
     "collapsed": false,
     "input": [
      "%%writefile csvmagic.py\n",
      "import pandas as pd\n",
      "#from StringIO import StringIO  # Python 2\n",
      "from io import StringIO  # Python 3\n",
      "\n",
      "def csv(line, cell):\n",
      "    sio = StringIO(cell)\n",
      "    return pd.read_csv(sio)\n",
      "\n",
      "def load_ipython_extension(ipython):\n",
      "    \"\"\"This function is called when the extension is loaded.\n",
      "    It accepts an IPython InteractiveShell instance.\n",
      "    We can register the magic with the `register_magic_function`\n",
      "    method of the shell instance.\"\"\"\n",
      "    ipython.register_magic_function(csv, 'cell')"
     ],
     "language": "python",
     "metadata": {},
     "outputs": [
      {
       "output_type": "stream",
       "stream": "stdout",
       "text": [
        "Writing csvmagic.py\n"
       ]
      }
     ],
     "prompt_number": 14
    },
    {
     "cell_type": "code",
     "collapsed": false,
     "input": [
      "%load_ext csvmagic"
     ],
     "language": "python",
     "metadata": {},
     "outputs": [],
     "prompt_number": 15
    },
    {
     "cell_type": "code",
     "collapsed": false,
     "input": [
      "%%csv\n",
      "col1,col2,col3\n",
      "0,1,2\n",
      "3,4,5\n",
      "7,8,9\n"
     ],
     "language": "python",
     "metadata": {},
     "outputs": [
      {
       "html": [
        "<div style=\"max-height:1000px;max-width:1500px;overflow:auto;\">\n",
        "<table border=\"1\" class=\"dataframe\">\n",
        "  <thead>\n",
        "    <tr style=\"text-align: right;\">\n",
        "      <th></th>\n",
        "      <th>col1</th>\n",
        "      <th>col2</th>\n",
        "      <th>col3</th>\n",
        "    </tr>\n",
        "  </thead>\n",
        "  <tbody>\n",
        "    <tr>\n",
        "      <th>0</th>\n",
        "      <td> 0</td>\n",
        "      <td> 1</td>\n",
        "      <td> 2</td>\n",
        "    </tr>\n",
        "    <tr>\n",
        "      <th>1</th>\n",
        "      <td> 3</td>\n",
        "      <td> 4</td>\n",
        "      <td> 5</td>\n",
        "    </tr>\n",
        "    <tr>\n",
        "      <th>2</th>\n",
        "      <td> 7</td>\n",
        "      <td> 8</td>\n",
        "      <td> 9</td>\n",
        "    </tr>\n",
        "  </tbody>\n",
        "</table>\n",
        "</div>"
       ],
       "metadata": {},
       "output_type": "pyout",
       "prompt_number": 16,
       "text": [
        "   col1  col2  col3\n",
        "0     0     1     2\n",
        "1     3     4     5\n",
        "2     7     8     9"
       ]
      }
     ],
     "prompt_number": 16
    },
    {
     "cell_type": "code",
     "collapsed": false,
     "input": [
      "%%writefile random_magics.py\n",
      "# NOTE: We create the `random_magics.py` file here so that \n",
      "# you don't have to do it...\n",
      "from IPython.utils.traitlets import Int, Float, Unicode, Bool\n",
      "from IPython.core.magic import (Magics, magics_class, line_magic)\n",
      "import numpy as np\n",
      "\n",
      "@magics_class\n",
      "class RandomMagics(Magics):\n",
      "    text = Unicode(u'{n}', config=True)\n",
      "    max = Int(1000, config=True)\n",
      "    seed = Int(0, config=True)\n",
      "    \n",
      "    def __init__(self, shell):\n",
      "        super(RandomMagics, self).__init__(shell)\n",
      "        self._rng = np.random.RandomState(self.seed or None)\n",
      "        \n",
      "    @line_magic\n",
      "    def random(self, line):\n",
      "        return self.text.format(n=self._rng.randint(self.max))\n",
      "    \n",
      "def load_ipython_extension(ipython):\n",
      "    ipython.register_magics(RandomMagics)"
     ],
     "language": "python",
     "metadata": {},
     "outputs": [
      {
       "output_type": "stream",
       "stream": "stdout",
       "text": [
        "Writing random_magics.py\n"
       ]
      }
     ],
     "prompt_number": 17
    },
    {
     "cell_type": "code",
     "collapsed": false,
     "input": [
      "%load_ext random_magics"
     ],
     "language": "python",
     "metadata": {},
     "outputs": [],
     "prompt_number": 18
    },
    {
     "cell_type": "code",
     "collapsed": false,
     "input": [
      "%random"
     ],
     "language": "python",
     "metadata": {},
     "outputs": [
      {
       "metadata": {},
       "output_type": "pyout",
       "prompt_number": 19,
       "text": [
        "u'903'"
       ]
      }
     ],
     "prompt_number": 19
    },
    {
     "cell_type": "code",
     "collapsed": false,
     "input": [
      "%random"
     ],
     "language": "python",
     "metadata": {},
     "outputs": [
      {
       "metadata": {},
       "output_type": "pyout",
       "prompt_number": 22,
       "text": [
        "u'354'"
       ]
      }
     ],
     "prompt_number": 22
    },
    {
     "cell_type": "code",
     "collapsed": false,
     "input": [
      "%random"
     ],
     "language": "python",
     "metadata": {},
     "outputs": [
      {
       "metadata": {},
       "output_type": "pyout",
       "prompt_number": 23,
       "text": [
        "u'685'"
       ]
      }
     ],
     "prompt_number": 23
    },
    {
     "cell_type": "code",
     "collapsed": false,
     "input": [
      "%random"
     ],
     "language": "python",
     "metadata": {},
     "outputs": [
      {
       "metadata": {},
       "output_type": "pyout",
       "prompt_number": 24,
       "text": [
        "u'795'"
       ]
      }
     ],
     "prompt_number": 24
    },
    {
     "cell_type": "code",
     "collapsed": false,
     "input": [
      "%%writefile plotkernel.py\n",
      "# NOTE: We create the `plotkernel.py` file here so that \n",
      "# you don't have to do it...\n",
      "from IPython.kernel.zmq.kernelbase import Kernel\n",
      "import numpy as np\n",
      "import matplotlib.pyplot as plt\n",
      "from io import BytesIO\n",
      "import urllib, base64\n",
      "\n",
      "def _to_png(fig):\n",
      "    \"\"\"Return a base64-encoded PNG from a \n",
      "    matplotlib figure.\"\"\"\n",
      "    imgdata = BytesIO()\n",
      "    fig.savefig(imgdata, format='png')\n",
      "    imgdata.seek(0)\n",
      "    return urllib.parse.quote(\n",
      "        base64.b64encode(imgdata.getvalue()))\n",
      "\n",
      "_numpy_namespace = {n: getattr(np, n) \n",
      "                    for n in dir(np)}\n",
      "def _parse_function(code):\n",
      "    \"\"\"Return a NumPy function from a string 'y=f(x)'.\"\"\"\n",
      "    return lambda x: eval(code.split('=')[1].strip(),\n",
      "                          _numpy_namespace, {'x': x})\n",
      "\n",
      "class PlotKernel(Kernel):\n",
      "    implementation = 'Plot'\n",
      "    implementation_version = '1.0'\n",
      "    language = 'python'  # will be used for\n",
      "                         # syntax highlighting\n",
      "    language_version = ''\n",
      "    banner = \"Simple plotting\"\n",
      "    \n",
      "    def do_execute(self, code, silent,\n",
      "                   store_history=True,\n",
      "                   user_expressions=None,\n",
      "                   allow_stdin=False):\n",
      "\n",
      "        # We create the plot with matplotlib.\n",
      "        fig = plt.figure(figsize=(6,4), dpi=100)\n",
      "        x = np.linspace(-5., 5., 200)\n",
      "        functions = code.split('\\n')\n",
      "        for fun in functions:\n",
      "            f = _parse_function(fun)\n",
      "            y = f(x)\n",
      "            plt.plot(x, y)\n",
      "        plt.xlim(-5, 5)\n",
      "\n",
      "        # We create a PNG out of this plot.\n",
      "        png = _to_png(fig)\n",
      "\n",
      "        if not silent:\n",
      "            # We send the standard output to the client.\n",
      "            self.send_response(self.iopub_socket,\n",
      "                'stream', {\n",
      "                    'name': 'stdout', \n",
      "                    'data': 'Plotting {n} function(s)'. \\\n",
      "                                format(n=len(functions))})\n",
      "\n",
      "            # We prepare the response with our rich data\n",
      "            # (the plot).\n",
      "            content = {\n",
      "                'source': 'kernel',\n",
      "\n",
      "                # This dictionary may contain different\n",
      "                # MIME representations of the output.\n",
      "                'data': {\n",
      "                    'image/png': png\n",
      "                },\n",
      "\n",
      "                # We can specify the image size\n",
      "                # in the metadata field.\n",
      "                'metadata' : {\n",
      "                      'image/png' : {\n",
      "                        'width': 600,\n",
      "                        'height': 400\n",
      "                      }\n",
      "                    }\n",
      "            }        \n",
      "\n",
      "            # We send the display_data message with the\n",
      "            # contents.\n",
      "            self.send_response(self.iopub_socket,\n",
      "                'display_data', content)\n",
      "\n",
      "        # We return the exection results.\n",
      "        return {'status': 'ok',\n",
      "                'execution_count': self.execution_count,\n",
      "                'payload': [],\n",
      "                'user_expressions': {},\n",
      "               }\n",
      "\n",
      "if __name__ == '__main__':\n",
      "    from IPython.kernel.zmq.kernelapp import IPKernelApp\n",
      "    IPKernelApp.launch_instance(kernel_class=PlotKernel)\n",
      "    \n",
      "{\n",
      "\"argv\": [\"python\", \"-m\",\n",
      "         \"plotkernel\", \"-f\",\n",
      "         \"{connection_file}\"],\n",
      "\"display_name\": \"Plot\",\n",
      "\"language\": \"python\"\n",
      "}"
     ],
     "language": "python",
     "metadata": {},
     "outputs": [
      {
       "output_type": "stream",
       "stream": "stdout",
       "text": [
        "Overwriting plotkernel.py\n"
       ]
      }
     ],
     "prompt_number": 31
    },
    {
     "cell_type": "code",
     "collapsed": false,
     "input": [
      "%random"
     ],
     "language": "python",
     "metadata": {},
     "outputs": [
      {
       "metadata": {},
       "output_type": "pyout",
       "prompt_number": 27,
       "text": [
        "u'232'"
       ]
      }
     ],
     "prompt_number": 27
    },
    {
     "cell_type": "code",
     "collapsed": false,
     "input": [
      "{}"
     ],
     "language": "python",
     "metadata": {},
     "outputs": [
      {
       "metadata": {},
       "output_type": "pyout",
       "prompt_number": 28,
       "text": [
        "{}"
       ]
      }
     ],
     "prompt_number": 28
    },
    {
     "cell_type": "code",
     "collapsed": false,
     "input": [
      "{\n",
      "\n",
      "}"
     ],
     "language": "python",
     "metadata": {},
     "outputs": [
      {
       "metadata": {},
       "output_type": "pyout",
       "prompt_number": 29,
       "text": [
        "{}"
       ]
      }
     ],
     "prompt_number": 29
    },
    {
     "cell_type": "code",
     "collapsed": false,
     "input": [
      "{\n",
      "\"argv\": [\"python\", \"-m\",\n",
      "         \"plotkernel\", \"-f\",\n",
      "         \"{connection_file}\"],\n",
      "\"display_name\": \"Plot\",\n",
      "\"language\": \"python\"\n",
      "}"
     ],
     "language": "python",
     "metadata": {},
     "outputs": [
      {
       "metadata": {},
       "output_type": "pyout",
       "prompt_number": 30,
       "text": [
        "{'argv': ['python', '-m', 'plotkernel', '-f', '{connection_file}'],\n",
        " 'display_name': 'Plot',\n",
        " 'language': 'python'}"
       ]
      }
     ],
     "prompt_number": 30
    },
    {
     "cell_type": "code",
     "collapsed": false,
     "input": [
      "from bokeh.plotting import *"
     ],
     "language": "python",
     "metadata": {},
     "outputs": [
      {
       "ename": "ImportError",
       "evalue": "No module named bokeh.plotting",
       "output_type": "pyerr",
       "traceback": [
        "\u001b[0;31m---------------------------------------------------------------------------\u001b[0m\n\u001b[0;31mImportError\u001b[0m                               Traceback (most recent call last)",
        "\u001b[0;32m<ipython-input-32-ddc21eaa6710>\u001b[0m in \u001b[0;36m<module>\u001b[0;34m()\u001b[0m\n\u001b[0;32m----> 1\u001b[0;31m \u001b[0;32mfrom\u001b[0m \u001b[0mbokeh\u001b[0m\u001b[0;34m.\u001b[0m\u001b[0mplotting\u001b[0m \u001b[0;32mimport\u001b[0m \u001b[0;34m*\u001b[0m\u001b[0;34m\u001b[0m\u001b[0m\n\u001b[0m",
        "\u001b[0;31mImportError\u001b[0m: No module named bokeh.plotting"
       ]
      }
     ],
     "prompt_number": 32
    },
    {
     "cell_type": "code",
     "collapsed": false,
     "input": [],
     "language": "python",
     "metadata": {},
     "outputs": []
    }
   ],
   "metadata": {}
  }
 ]
}